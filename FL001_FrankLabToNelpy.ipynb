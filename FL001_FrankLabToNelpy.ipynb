{
 "cells": [
  {
   "cell_type": "markdown",
   "metadata": {},
   "source": [
    "# FrankLabToNelpy"
   ]
  },
  {
   "cell_type": "markdown",
   "metadata": {
    "collapsed": true
   },
   "source": [
    "This is based on Caleb's `PickleFrankLabData.ipynb`, but adds several additional pieces (run epochs, ripples, tuning curves, ...)"
   ]
  },
  {
   "cell_type": "code",
   "execution_count": 1,
   "metadata": {},
   "outputs": [
    {
     "name": "stdout",
     "output_type": "stream",
     "text": [
      "Etienne Ackermann, Fri Dec 01 2017 22:51:05 \n",
      "\n",
      "CPython 3.6.3\n",
      "IPython 6.1.0\n",
      "\n",
      "nelpy 0.1.1\n",
      "numpy 1.12.1\n",
      "scipy 0.19.1\n",
      "pandas 0.21.0\n"
     ]
    },
    {
     "name": "stderr",
     "output_type": "stream",
     "text": [
      "C:\\Users\\etien\\Anaconda3\\lib\\site-packages\\matplotlib\\cbook\\deprecation.py:106: MatplotlibDeprecationWarning: The mpl_toolkits.axes_grid module was deprecated in version 2.1. Use mpl_toolkits.axes_grid1 and mpl_toolkits.axisartist provies the same functionality instead.\n"
     ]
    }
   ],
   "source": [
    "%load_ext watermark\n",
    "%watermark -a \"Etienne Ackermann,\" -n -t -v -p nelpy,numpy,scipy,pandas"
   ]
  },
  {
   "cell_type": "markdown",
   "metadata": {},
   "source": [
    "**Sleuthing:** \n",
    "\n",
    "`Con` is rat 1 (from task description); `Bon` is rat 2 (from supplementary figure 4), and `Fra` is rat 3."
   ]
  },
  {
   "cell_type": "markdown",
   "metadata": {},
   "source": [
    "# Overview\n",
    "\n",
    "Here we load data obtained from CRCNS.org (https://crcns.org/data-sets/hc/hc-6) into python and into `nelpy` (https:github.com/nelpy/nelpy).\n",
    "\n",
    "We will reproduce several results from https://www.nature.com/articles/nn.2344, and show how we can use HMMs to perform a similar remote replay analysis."
   ]
  },
  {
   "cell_type": "code",
   "execution_count": 2,
   "metadata": {
    "collapsed": true
   },
   "outputs": [],
   "source": [
    "import numpy as np\n",
    "import frank_lab"
   ]
  },
  {
   "cell_type": "code",
   "execution_count": 3,
   "metadata": {
    "collapsed": true
   },
   "outputs": [],
   "source": [
    "fileroot = '../../../FrankLabData/'"
   ]
  },
  {
   "cell_type": "code",
   "execution_count": 4,
   "metadata": {},
   "outputs": [
    {
     "name": "stdout",
     "output_type": "stream",
     "text": [
      "[('Bon', '../../../FrankLabData/Bon'), ('Con', '../../../FrankLabData/Con_'), ('Fra', '../../../FrankLabData/Fra')]\n"
     ]
    }
   ],
   "source": [
    "import os\n",
    "anim_dirs = [(d[:3], os.path.join(fileroot,d)) for d in os.listdir(fileroot) if os.path.isdir(os.path.join(fileroot,d))]\n",
    "print(anim_dirs)"
   ]
  },
  {
   "cell_type": "code",
   "execution_count": 5,
   "metadata": {
    "collapsed": true
   },
   "outputs": [],
   "source": [
    "import pandas as pd\n",
    "\n",
    "verbose = 0\n",
    "\n",
    "#animals = ['Bon', 'Con', 'Fra', 'Dud', 'Fiv', 'Eig', 'Cor', 'Ten', 'Mil']\n",
    "#animals = [ 'Eig', 'Cor', 'Ten']\n",
    "animals = ['Bon','Con','Fra']\n",
    "\n",
    "# don't include Miles - his position is weird\n",
    "#animals.remove('Mil')\n",
    "\n",
    "taskinfo = {}\n",
    "for (anim, adir) in anim_dirs:\n",
    "    taskinfo[anim] = frank_lab.load_data(adir, datatype='task', verbose=verbose)\n",
    "df = pd.DataFrame([])\n",
    "for anim in animals:\n",
    "    taskinfo[anim].insert(0,'Animal',anim)\n",
    "    df = df.append(taskinfo[anim], ignore_index=True)\n",
    "taskinfo = df"
   ]
  },
  {
   "cell_type": "code",
   "execution_count": 6,
   "metadata": {
    "collapsed": true
   },
   "outputs": [],
   "source": [
    "from ast import literal_eval \n",
    "\n",
    "cellinfo = {}\n",
    "for (anim, adir) in anim_dirs:\n",
    "    cellinfo[anim], _ = frank_lab.load_data(adir, datatype='cellinfo', verbose=verbose)\n",
    "\n",
    "df = pd.DataFrame([])\n",
    "for anim in animals:\n",
    "    cellinfo[anim].insert(0,'Animal',anim)\n",
    "    cellinfo[anim].index = cellinfo[anim].index.map(lambda x: str( (anim,) + literal_eval(x)))\n",
    "    df = df.append(cellinfo[anim])\n",
    "\n",
    "cellinfo = df"
   ]
  },
  {
   "cell_type": "code",
   "execution_count": 7,
   "metadata": {
    "collapsed": true
   },
   "outputs": [],
   "source": [
    "import nelpy as nel\n",
    "import nelpy.io\n",
    "import nelpy.plotting as npl\n",
    "\n",
    "import warnings"
   ]
  },
  {
   "cell_type": "code",
   "execution_count": 8,
   "metadata": {
    "scrolled": true
   },
   "outputs": [
    {
     "name": "stderr",
     "output_type": "stream",
     "text": [
      "d:\\dropbox\\code\\nelpy\\nelpy\\core\\_analogsignalarray.py:360: UserWarning: creating support from time and sampling rate, fs!\n",
      "d:\\dropbox\\code\\nelpy\\nelpy\\utils.py:549: UserWarning: some steps in the data are smaller than the requested step size.\n",
      "d:\\dropbox\\code\\nelpy\\nelpy\\core\\_analogsignalarray.py:560: UserWarning: ignoring signal outside of support\n",
      "d:\\dropbox\\code\\nelpy\\nelpy\\core\\_analogsignalarray.py:360: UserWarning: creating support from time and sampling rate, fs!\n",
      "d:\\dropbox\\code\\nelpy\\nelpy\\utils.py:549: UserWarning: some steps in the data are smaller than the requested step size.\n",
      "d:\\dropbox\\code\\nelpy\\nelpy\\core\\_analogsignalarray.py:560: UserWarning: ignoring signal outside of support\n",
      "d:\\dropbox\\code\\nelpy\\nelpy\\core\\_analogsignalarray.py:360: UserWarning: creating support from time and sampling rate, fs!\n",
      "d:\\dropbox\\code\\nelpy\\nelpy\\utils.py:549: UserWarning: some steps in the data are smaller than the requested step size.\n",
      "d:\\dropbox\\code\\nelpy\\nelpy\\core\\_analogsignalarray.py:560: UserWarning: ignoring signal outside of support\n",
      "d:\\dropbox\\code\\nelpy\\nelpy\\core\\_analogsignalarray.py:360: UserWarning: creating support from time and sampling rate, fs!\n",
      "d:\\dropbox\\code\\nelpy\\nelpy\\utils.py:549: UserWarning: some steps in the data are smaller than the requested step size.\n",
      "d:\\dropbox\\code\\nelpy\\nelpy\\core\\_analogsignalarray.py:560: UserWarning: ignoring signal outside of support\n",
      "d:\\dropbox\\code\\nelpy\\nelpy\\core\\_analogsignalarray.py:360: UserWarning: creating support from time and sampling rate, fs!\n",
      "d:\\dropbox\\code\\nelpy\\nelpy\\utils.py:549: UserWarning: some steps in the data are smaller than the requested step size.\n",
      "d:\\dropbox\\code\\nelpy\\nelpy\\core\\_analogsignalarray.py:560: UserWarning: ignoring signal outside of support\n",
      "d:\\dropbox\\code\\nelpy\\nelpy\\core\\_analogsignalarray.py:360: UserWarning: creating support from time and sampling rate, fs!\n",
      "d:\\dropbox\\code\\nelpy\\nelpy\\utils.py:549: UserWarning: some steps in the data are smaller than the requested step size.\n",
      "d:\\dropbox\\code\\nelpy\\nelpy\\core\\_analogsignalarray.py:560: UserWarning: ignoring signal outside of support\n",
      "d:\\dropbox\\code\\nelpy\\nelpy\\core\\_analogsignalarray.py:360: UserWarning: creating support from time and sampling rate, fs!\n",
      "d:\\dropbox\\code\\nelpy\\nelpy\\utils.py:549: UserWarning: some steps in the data are smaller than the requested step size.\n",
      "d:\\dropbox\\code\\nelpy\\nelpy\\core\\_analogsignalarray.py:560: UserWarning: ignoring signal outside of support\n",
      "d:\\dropbox\\code\\nelpy\\nelpy\\core\\_analogsignalarray.py:360: UserWarning: creating support from time and sampling rate, fs!\n",
      "d:\\dropbox\\code\\nelpy\\nelpy\\utils.py:549: UserWarning: some steps in the data are smaller than the requested step size.\n",
      "d:\\dropbox\\code\\nelpy\\nelpy\\core\\_analogsignalarray.py:560: UserWarning: ignoring signal outside of support\n",
      "d:\\dropbox\\code\\nelpy\\nelpy\\core\\_analogsignalarray.py:360: UserWarning: creating support from time and sampling rate, fs!\n",
      "d:\\dropbox\\code\\nelpy\\nelpy\\utils.py:549: UserWarning: some steps in the data are smaller than the requested step size.\n",
      "d:\\dropbox\\code\\nelpy\\nelpy\\core\\_analogsignalarray.py:560: UserWarning: ignoring signal outside of support\n",
      "d:\\dropbox\\code\\nelpy\\nelpy\\core\\_analogsignalarray.py:360: UserWarning: creating support from time and sampling rate, fs!\n",
      "d:\\dropbox\\code\\nelpy\\nelpy\\utils.py:549: UserWarning: some steps in the data are smaller than the requested step size.\n",
      "d:\\dropbox\\code\\nelpy\\nelpy\\core\\_analogsignalarray.py:560: UserWarning: ignoring signal outside of support\n",
      "d:\\dropbox\\code\\nelpy\\nelpy\\core\\_analogsignalarray.py:332: UserWarning: Data is _not_ sorted! Data will be sorted automatically.\n",
      "d:\\dropbox\\code\\nelpy\\nelpy\\core\\_analogsignalarray.py:360: UserWarning: creating support from time and sampling rate, fs!\n",
      "d:\\dropbox\\code\\nelpy\\nelpy\\utils.py:549: UserWarning: some steps in the data are smaller than the requested step size.\n",
      "d:\\dropbox\\code\\nelpy\\nelpy\\core\\_analogsignalarray.py:560: UserWarning: ignoring signal outside of support\n",
      "d:\\dropbox\\code\\nelpy\\nelpy\\core\\_spiketrain.py:952: UserWarning: ignoring spikes outside of spiketrain support\n",
      "d:\\dropbox\\code\\nelpy\\nelpy\\core\\_analogsignalarray.py:360: UserWarning: creating support from time and sampling rate, fs!\n",
      "d:\\dropbox\\code\\nelpy\\nelpy\\utils.py:549: UserWarning: some steps in the data are smaller than the requested step size.\n",
      "d:\\dropbox\\code\\nelpy\\nelpy\\core\\_analogsignalarray.py:560: UserWarning: ignoring signal outside of support\n",
      "d:\\dropbox\\code\\nelpy\\nelpy\\core\\_analogsignalarray.py:360: UserWarning: creating support from time and sampling rate, fs!\n",
      "d:\\dropbox\\code\\nelpy\\nelpy\\utils.py:549: UserWarning: some steps in the data are smaller than the requested step size.\n",
      "d:\\dropbox\\code\\nelpy\\nelpy\\core\\_analogsignalarray.py:560: UserWarning: ignoring signal outside of support\n",
      "d:\\dropbox\\code\\nelpy\\nelpy\\core\\_analogsignalarray.py:360: UserWarning: creating support from time and sampling rate, fs!\n",
      "d:\\dropbox\\code\\nelpy\\nelpy\\utils.py:549: UserWarning: some steps in the data are smaller than the requested step size.\n",
      "d:\\dropbox\\code\\nelpy\\nelpy\\core\\_analogsignalarray.py:560: UserWarning: ignoring signal outside of support\n",
      "d:\\dropbox\\code\\nelpy\\nelpy\\core\\_analogsignalarray.py:360: UserWarning: creating support from time and sampling rate, fs!\n",
      "d:\\dropbox\\code\\nelpy\\nelpy\\utils.py:549: UserWarning: some steps in the data are smaller than the requested step size.\n",
      "d:\\dropbox\\code\\nelpy\\nelpy\\core\\_analogsignalarray.py:560: UserWarning: ignoring signal outside of support\n",
      "d:\\dropbox\\code\\nelpy\\nelpy\\core\\_analogsignalarray.py:360: UserWarning: creating support from time and sampling rate, fs!\n",
      "d:\\dropbox\\code\\nelpy\\nelpy\\utils.py:549: UserWarning: some steps in the data are smaller than the requested step size.\n",
      "d:\\dropbox\\code\\nelpy\\nelpy\\core\\_analogsignalarray.py:560: UserWarning: ignoring signal outside of support\n",
      "d:\\dropbox\\code\\nelpy\\nelpy\\core\\_analogsignalarray.py:360: UserWarning: creating support from time and sampling rate, fs!\n",
      "d:\\dropbox\\code\\nelpy\\nelpy\\utils.py:549: UserWarning: some steps in the data are smaller than the requested step size.\n",
      "C:\\Users\\etien\\Anaconda3\\lib\\site-packages\\ipykernel_launcher.py:41: UserWarning: Number of epochs in support does not match task_metadata rows\n"
     ]
    },
    {
     "name": "stdout",
     "output_type": "stream",
     "text": [
      "Animal: Fra, Day: 3\n",
      "number of support epochs: 6\n",
      "number of task epochs: 7\n"
     ]
    },
    {
     "name": "stderr",
     "output_type": "stream",
     "text": [
      "d:\\dropbox\\code\\nelpy\\nelpy\\core\\_analogsignalarray.py:560: UserWarning: ignoring signal outside of support\n",
      "d:\\dropbox\\code\\nelpy\\nelpy\\core\\_analogsignalarray.py:360: UserWarning: creating support from time and sampling rate, fs!\n",
      "d:\\dropbox\\code\\nelpy\\nelpy\\utils.py:549: UserWarning: some steps in the data are smaller than the requested step size.\n",
      "d:\\dropbox\\code\\nelpy\\nelpy\\core\\_analogsignalarray.py:560: UserWarning: ignoring signal outside of support\n",
      "d:\\dropbox\\code\\nelpy\\nelpy\\core\\_analogsignalarray.py:360: UserWarning: creating support from time and sampling rate, fs!\n",
      "d:\\dropbox\\code\\nelpy\\nelpy\\utils.py:549: UserWarning: some steps in the data are smaller than the requested step size.\n",
      "d:\\dropbox\\code\\nelpy\\nelpy\\core\\_analogsignalarray.py:560: UserWarning: ignoring signal outside of support\n",
      "d:\\dropbox\\code\\nelpy\\nelpy\\core\\_analogsignalarray.py:360: UserWarning: creating support from time and sampling rate, fs!\n",
      "d:\\dropbox\\code\\nelpy\\nelpy\\utils.py:549: UserWarning: some steps in the data are smaller than the requested step size.\n",
      "d:\\dropbox\\code\\nelpy\\nelpy\\core\\_analogsignalarray.py:560: UserWarning: ignoring signal outside of support\n",
      "d:\\dropbox\\code\\nelpy\\nelpy\\core\\_analogsignalarray.py:360: UserWarning: creating support from time and sampling rate, fs!\n",
      "d:\\dropbox\\code\\nelpy\\nelpy\\utils.py:549: UserWarning: some steps in the data are smaller than the requested step size.\n",
      "d:\\dropbox\\code\\nelpy\\nelpy\\core\\_analogsignalarray.py:560: UserWarning: ignoring signal outside of support\n",
      "d:\\dropbox\\code\\nelpy\\nelpy\\core\\_analogsignalarray.py:360: UserWarning: creating support from time and sampling rate, fs!\n",
      "d:\\dropbox\\code\\nelpy\\nelpy\\utils.py:549: UserWarning: some steps in the data are smaller than the requested step size.\n",
      "d:\\dropbox\\code\\nelpy\\nelpy\\core\\_analogsignalarray.py:560: UserWarning: ignoring signal outside of support\n",
      "d:\\dropbox\\code\\nelpy\\nelpy\\core\\_analogsignalarray.py:360: UserWarning: creating support from time and sampling rate, fs!\n",
      "d:\\dropbox\\code\\nelpy\\nelpy\\utils.py:549: UserWarning: some steps in the data are smaller than the requested step size.\n",
      "d:\\dropbox\\code\\nelpy\\nelpy\\core\\_analogsignalarray.py:560: UserWarning: ignoring signal outside of support\n",
      "d:\\dropbox\\code\\nelpy\\nelpy\\core\\_analogsignalarray.py:360: UserWarning: creating support from time and sampling rate, fs!\n",
      "d:\\dropbox\\code\\nelpy\\nelpy\\utils.py:549: UserWarning: some steps in the data are smaller than the requested step size.\n",
      "d:\\dropbox\\code\\nelpy\\nelpy\\core\\_analogsignalarray.py:560: UserWarning: ignoring signal outside of support\n",
      "d:\\dropbox\\code\\nelpy\\nelpy\\core\\_analogsignalarray.py:360: UserWarning: creating support from time and sampling rate, fs!\n",
      "d:\\dropbox\\code\\nelpy\\nelpy\\utils.py:549: UserWarning: some steps in the data are smaller than the requested step size.\n",
      "d:\\dropbox\\code\\nelpy\\nelpy\\core\\_analogsignalarray.py:560: UserWarning: ignoring signal outside of support\n"
     ]
    }
   ],
   "source": [
    "data = dict()\n",
    "\n",
    "for animal in animals:\n",
    "    data[animal] = dict()\n",
    "    adir = next(d[1] for d in anim_dirs if d[0] == animal)\n",
    "    tetinfo, _ = frank_lab.load_data(adir, datatype='tetinfo', verbose=verbose)\n",
    "    spikes = frank_lab.load_data(adir, datatype='spikes', verbose=verbose)\n",
    "    matpos = frank_lab.load_data(adir, datatype='pos', verbose=verbose)\n",
    "    posdf = (matpos.dropna(axis=0, subset=['time','x'])\n",
    "                   .groupby(['Day'], as_index=False)\n",
    "                   .agg({'time' : lambda x: tuple(x),\n",
    "                         'x' : lambda x: tuple(x),\n",
    "                         'y' : lambda x: tuple(x),\n",
    "                         'vel' : lambda x: tuple(x),\n",
    "                         'dir' : lambda x: tuple(x)\n",
    "                        }))    \n",
    "    for var in ['time','x','y','vel','dir']:\n",
    "        posdf[var] = posdf[var].apply(np.hstack)       \n",
    "    \n",
    "    for day in spikes['Day'].unique():\n",
    "        data[animal]['Day' + str(day)] = dict()\n",
    "        # Position data\n",
    "        pp = posdf.query('Day==@day')\n",
    "        pos = nel.AnalogSignalArray(np.vstack((pp.iloc[0].x, pp.iloc[0].y)), \n",
    "                                    timestamps=pp.iloc[0].time, fs=30)\n",
    "        pos._support = pos.support.merge(gap=3/30)\n",
    "        data[animal]['Day' + str(day)]['pos'] = pos\n",
    "        \n",
    "        speed = nel.utils.dxdt_AnalogSignalArray(pos.smooth(sigma=0.62), sigma=0.05, smooth=True)\n",
    "        data[animal]['Day' + str(day)]['speed'] = speed\n",
    "\n",
    "        support = pos.support # there should be one epoch per experimental epoch\n",
    "        \n",
    "        task_metadata = taskinfo.query('Animal==@animal & Day==@day')\n",
    "        task_metadata = task_metadata.merge(matpos.query('Day==@day')[['Epoch','cmperpixel']],how='outer',on=['Epoch'])\n",
    "        task_metadata.drop(['Animal','Day'],axis=1)\n",
    "        data[animal]['Day' + str(day)]['task_metadata'] = task_metadata\n",
    "        data[animal]['Day' + str(day)]['task_epochs'] = support\n",
    "        \n",
    "        if support.n_epochs != task_metadata.shape[0] :\n",
    "            warnings.warn('Number of epochs in support does not match task_metadata rows')\n",
    "            print('Animal: {}, Day: {}'.format(animal,day))\n",
    "            print('number of support epochs: {}'.format(support.n_epochs))\n",
    "            print('number of task epochs: {}'.format(task_metadata.shape[0]))\n",
    "            \n",
    "        TetrodeList = list(set(tetinfo.query(\"Day==@day & area=='CA1' & representative==1\").Tetrode.tolist()))\n",
    "\n",
    "        ep_list = task_metadata.Epoch.values.tolist()\n",
    "        \n",
    "        # We know both EEG and position data are missing for Fra day 3 ep 0:\n",
    "        if (animal == 'Fra') and (day==3):\n",
    "            ep_list = np.arange(1, support.n_epochs+1)\n",
    "        \n",
    "        eeg_data = []\n",
    "        eeg_timestamps = []\n",
    "        for ep in ep_list:\n",
    "            eeg = frank_lab.load_data(adir, day=day+1, epoch=ep+1, tetrode=TetrodeList[0]+1, version='new', verbose=verbose)\n",
    "            eeg_data.append(eeg.data)\n",
    "            eeg_timestamps.append(eeg.starttime + np.array(range(len(eeg.data))) / eeg.samprate)\n",
    "\n",
    "        # might as well build one AnalogSignalArray for the eeg data:\n",
    "        eeg = nel.AnalogSignalArray(ydata=np.hstack(eeg_data), timestamps=np.hstack(eeg_timestamps), fs=1500)\n",
    "        eeg = eeg[support]\n",
    "        data[animal]['Day' + str(day)]['eeg'] = eeg\n",
    "            \n",
    "        spikedf = (spikes.query('Day==@day',inplace=False)\n",
    "                      .dropna(axis=0, subset=['spiketimes'])\n",
    "                      .groupby(['Tetrode','Cell'], as_index=False)\n",
    "                      .agg({'spiketimes': lambda x: tuple(x),\n",
    "                            'spikewidth' : lambda x: np.unique(list(x.dropna())) if list(x.dropna()) else None}))\n",
    "                                          \n",
    "        unit_ids = spikedf.index.tolist()\n",
    "        numspikes = []\n",
    "        timestamps = []\n",
    "        for idx, neuron in spikedf.iterrows() :\n",
    "            timestamps.append(np.hstack(neuron.spiketimes))\n",
    "            numspikes.append(len(np.hstack(neuron.spiketimes)))\n",
    "            \n",
    "        spikedf['numspikes'] = numspikes\n",
    "\n",
    "        cell_metadata = (cellinfo.query('Animal==@animal & Day==@day',inplace=False)\n",
    "            .groupby(['Tetrode','Cell'], as_index=False)\n",
    "            .agg({'area' : lambda x: np.unique(list(x.dropna())) if list(x.dropna()) else None}))\n",
    "                  #'layer' : lambda x: x.unique(),\n",
    "                  #'fs' : lambda x: None if x.last_valid_index() is None else x.loc[x.last_valid_index()]\n",
    "        cell_metadata = spikedf[['Tetrode','Cell','spikewidth','numspikes']].merge(cell_metadata, on=['Tetrode','Cell'])\n",
    "                \n",
    "        data[animal]['Day' + str(day)]['cell_metadata'] = cell_metadata\n",
    "\n",
    "        st = nel.SpikeTrainArray(timestamps, unit_ids=unit_ids,support=support, fs=10000)\n",
    "        data[animal]['Day' + str(day)]['spikes'] = st"
   ]
  },
  {
   "cell_type": "markdown",
   "metadata": {},
   "source": [
    "### Patch up epochs for Fra Day 3"
   ]
  },
  {
   "cell_type": "markdown",
   "metadata": {},
   "source": [
    "There was a failed sleep session (the very first task epoch) so that no position data is available. Consequently, we add in a length-0 support at the start, so that the number of epochs are matched between the nelpy objects and the task table."
   ]
  },
  {
   "cell_type": "code",
   "execution_count": 9,
   "metadata": {},
   "outputs": [
    {
     "data": {
      "text/html": [
       "<div>\n",
       "<style scoped>\n",
       "    .dataframe tbody tr th:only-of-type {\n",
       "        vertical-align: middle;\n",
       "    }\n",
       "\n",
       "    .dataframe tbody tr th {\n",
       "        vertical-align: top;\n",
       "    }\n",
       "\n",
       "    .dataframe thead th {\n",
       "        text-align: right;\n",
       "    }\n",
       "</style>\n",
       "<table border=\"1\" class=\"dataframe\">\n",
       "  <thead>\n",
       "    <tr style=\"text-align: right;\">\n",
       "      <th></th>\n",
       "      <th>Animal</th>\n",
       "      <th>Day</th>\n",
       "      <th>Epoch</th>\n",
       "      <th>type</th>\n",
       "      <th>exposure</th>\n",
       "      <th>environment</th>\n",
       "      <th>description</th>\n",
       "      <th>sleepnum</th>\n",
       "      <th>dailyexposure</th>\n",
       "      <th>exposureday</th>\n",
       "      <th>experimentday</th>\n",
       "      <th>tracksexperienced</th>\n",
       "      <th>dailytracksexperienced</th>\n",
       "      <th>linearcoord</th>\n",
       "      <th>cmperpixel</th>\n",
       "    </tr>\n",
       "  </thead>\n",
       "  <tbody>\n",
       "    <tr>\n",
       "      <th>0</th>\n",
       "      <td>Fra</td>\n",
       "      <td>3</td>\n",
       "      <td>0</td>\n",
       "      <td>failed sleep</td>\n",
       "      <td>NaN</td>\n",
       "      <td>NaN</td>\n",
       "      <td>NaN</td>\n",
       "      <td>NaN</td>\n",
       "      <td>NaN</td>\n",
       "      <td>NaN</td>\n",
       "      <td>NaN</td>\n",
       "      <td>NaN</td>\n",
       "      <td>NaN</td>\n",
       "      <td>NaN</td>\n",
       "      <td>NaN</td>\n",
       "    </tr>\n",
       "    <tr>\n",
       "      <th>1</th>\n",
       "      <td>Fra</td>\n",
       "      <td>3</td>\n",
       "      <td>1</td>\n",
       "      <td>run</td>\n",
       "      <td>5.0</td>\n",
       "      <td>TrackB</td>\n",
       "      <td>TrackB</td>\n",
       "      <td>NaN</td>\n",
       "      <td>1.0</td>\n",
       "      <td>3.0</td>\n",
       "      <td>9.0</td>\n",
       "      <td>NaN</td>\n",
       "      <td>NaN</td>\n",
       "      <td>[[[[ 207.88018433  207.88018433  207.88018433 ...</td>\n",
       "      <td>0.9</td>\n",
       "    </tr>\n",
       "    <tr>\n",
       "      <th>2</th>\n",
       "      <td>Fra</td>\n",
       "      <td>3</td>\n",
       "      <td>2</td>\n",
       "      <td>sleep</td>\n",
       "      <td>NaN</td>\n",
       "      <td>NaN</td>\n",
       "      <td>NaN</td>\n",
       "      <td>2.0</td>\n",
       "      <td>NaN</td>\n",
       "      <td>NaN</td>\n",
       "      <td>NaN</td>\n",
       "      <td>NaN</td>\n",
       "      <td>NaN</td>\n",
       "      <td>NaN</td>\n",
       "      <td>0.9</td>\n",
       "    </tr>\n",
       "    <tr>\n",
       "      <th>3</th>\n",
       "      <td>Fra</td>\n",
       "      <td>3</td>\n",
       "      <td>3</td>\n",
       "      <td>run</td>\n",
       "      <td>6.0</td>\n",
       "      <td>TrackB</td>\n",
       "      <td>TrackB</td>\n",
       "      <td>NaN</td>\n",
       "      <td>2.0</td>\n",
       "      <td>3.0</td>\n",
       "      <td>9.0</td>\n",
       "      <td>NaN</td>\n",
       "      <td>NaN</td>\n",
       "      <td>[[[[ 207.60368664  207.60368664  207.60368664 ...</td>\n",
       "      <td>0.9</td>\n",
       "    </tr>\n",
       "    <tr>\n",
       "      <th>4</th>\n",
       "      <td>Fra</td>\n",
       "      <td>3</td>\n",
       "      <td>4</td>\n",
       "      <td>sleep</td>\n",
       "      <td>NaN</td>\n",
       "      <td>NaN</td>\n",
       "      <td>NaN</td>\n",
       "      <td>3.0</td>\n",
       "      <td>NaN</td>\n",
       "      <td>NaN</td>\n",
       "      <td>NaN</td>\n",
       "      <td>NaN</td>\n",
       "      <td>NaN</td>\n",
       "      <td>NaN</td>\n",
       "      <td>0.9</td>\n",
       "    </tr>\n",
       "    <tr>\n",
       "      <th>5</th>\n",
       "      <td>Fra</td>\n",
       "      <td>3</td>\n",
       "      <td>5</td>\n",
       "      <td>run</td>\n",
       "      <td>15.0</td>\n",
       "      <td>TrackA</td>\n",
       "      <td>TrackA</td>\n",
       "      <td>NaN</td>\n",
       "      <td>1.0</td>\n",
       "      <td>9.0</td>\n",
       "      <td>9.0</td>\n",
       "      <td>NaN</td>\n",
       "      <td>NaN</td>\n",
       "      <td>[[[[ 134.42396313  134.42396313  134.42396313 ...</td>\n",
       "      <td>0.9</td>\n",
       "    </tr>\n",
       "    <tr>\n",
       "      <th>6</th>\n",
       "      <td>Fra</td>\n",
       "      <td>3</td>\n",
       "      <td>6</td>\n",
       "      <td>sleep</td>\n",
       "      <td>NaN</td>\n",
       "      <td>NaN</td>\n",
       "      <td>NaN</td>\n",
       "      <td>4.0</td>\n",
       "      <td>NaN</td>\n",
       "      <td>NaN</td>\n",
       "      <td>NaN</td>\n",
       "      <td>NaN</td>\n",
       "      <td>NaN</td>\n",
       "      <td>NaN</td>\n",
       "      <td>0.9</td>\n",
       "    </tr>\n",
       "  </tbody>\n",
       "</table>\n",
       "</div>"
      ],
      "text/plain": [
       "  Animal  Day  Epoch          type  exposure environment description  \\\n",
       "0    Fra    3      0  failed sleep       NaN         NaN         NaN   \n",
       "1    Fra    3      1           run       5.0      TrackB      TrackB   \n",
       "2    Fra    3      2         sleep       NaN         NaN         NaN   \n",
       "3    Fra    3      3           run       6.0      TrackB      TrackB   \n",
       "4    Fra    3      4         sleep       NaN         NaN         NaN   \n",
       "5    Fra    3      5           run      15.0      TrackA      TrackA   \n",
       "6    Fra    3      6         sleep       NaN         NaN         NaN   \n",
       "\n",
       "   sleepnum  dailyexposure  exposureday  experimentday  tracksexperienced  \\\n",
       "0       NaN            NaN          NaN            NaN                NaN   \n",
       "1       NaN            1.0          3.0            9.0                NaN   \n",
       "2       2.0            NaN          NaN            NaN                NaN   \n",
       "3       NaN            2.0          3.0            9.0                NaN   \n",
       "4       3.0            NaN          NaN            NaN                NaN   \n",
       "5       NaN            1.0          9.0            9.0                NaN   \n",
       "6       4.0            NaN          NaN            NaN                NaN   \n",
       "\n",
       "   dailytracksexperienced                                        linearcoord  \\\n",
       "0                     NaN                                                NaN   \n",
       "1                     NaN  [[[[ 207.88018433  207.88018433  207.88018433 ...   \n",
       "2                     NaN                                                NaN   \n",
       "3                     NaN  [[[[ 207.60368664  207.60368664  207.60368664 ...   \n",
       "4                     NaN                                                NaN   \n",
       "5                     NaN  [[[[ 134.42396313  134.42396313  134.42396313 ...   \n",
       "6                     NaN                                                NaN   \n",
       "\n",
       "   cmperpixel  \n",
       "0         NaN  \n",
       "1         0.9  \n",
       "2         0.9  \n",
       "3         0.9  \n",
       "4         0.9  \n",
       "5         0.9  \n",
       "6         0.9  "
      ]
     },
     "execution_count": 9,
     "metadata": {},
     "output_type": "execute_result"
    }
   ],
   "source": [
    "data['Fra']['Day3']['task_metadata']"
   ]
  },
  {
   "cell_type": "code",
   "execution_count": 10,
   "metadata": {
    "collapsed": true
   },
   "outputs": [],
   "source": [
    "data['Fra']['Day3']['task_epochs'] = data['Fra']['Day3']['task_epochs'] + nel.EpochArray((-1,-1))\n",
    "data['Fra']['Day3']['eeg']._support = data['Fra']['Day3']['task_epochs']\n",
    "data['Fra']['Day3']['pos']._support = data['Fra']['Day3']['task_epochs']\n",
    "data['Fra']['Day3']['speed']._support = data['Fra']['Day3']['task_epochs']\n",
    "data['Fra']['Day3']['spikes']._support = data['Fra']['Day3']['task_epochs']"
   ]
  },
  {
   "cell_type": "code",
   "execution_count": 20,
   "metadata": {},
   "outputs": [
    {
     "name": "stdout",
     "output_type": "stream",
     "text": [
      "Bon Day2\n",
      "Bon Day3\n",
      "Bon Day4\n",
      "Bon Day5\n",
      "Bon Day6\n",
      "Bon Day7\n",
      "Bon Day8\n",
      "Bon Day9\n",
      "Con Day0\n",
      "Con Day1\n",
      "Con Day2\n",
      "Con Day3\n",
      "Con Day4\n",
      "Con Day5\n",
      "Fra Day1\n",
      "Fra Day2\n",
      "Fra Day3\n",
      "Fra Day4\n",
      "Fra Day5\n",
      "Fra Day6\n",
      "Fra Day7\n",
      "Fra Day8\n",
      "Fra Day9\n",
      "Fra Day10\n",
      "Fra Day11\n"
     ]
    }
   ],
   "source": [
    "import natsort as ns\n",
    "\n",
    "animals = []\n",
    "days = []\n",
    "for animal in data:\n",
    "    animal_days = []\n",
    "    animals.append(animal)\n",
    "    for day in data[animal]:\n",
    "        animal_days.append(day)\n",
    "    days.append(ns.natsorted(animal_days))\n",
    "    \n",
    "animalorder = ns.index_natsorted(animals)\n",
    "animals = np.array(animals)[animalorder].tolist()\n",
    "days = np.array(days)[animalorder].tolist()\n",
    "\n",
    "#now zip these together:\n",
    "sessions = []\n",
    "for aa, animal in enumerate(animals):\n",
    "    for day in days[aa]:\n",
    "        sessions.append((animal, day))\n",
    "\n",
    "# final usage:\n",
    "for animal, day in sessions:\n",
    "    print(animal, day)"
   ]
  },
  {
   "cell_type": "code",
   "execution_count": 12,
   "metadata": {
    "collapsed": true
   },
   "outputs": [],
   "source": [
    "def detect_ripples(eeg):\n",
    "    \"\"\"Detect sharp wave ripples (SWRs) from single channel eeg (AnalogSignalArray).\n",
    "    \"\"\"\n",
    "    \n",
    "    # Maggie defines ripples by doing:\n",
    "    #  (1) filter 150-250\n",
    "    #  (2) hilbert envelope\n",
    "    #  (3) smooth with Gaussian (4 ms SD)\n",
    "    #  (4) 3.5 SD above the mean for 15 ms\n",
    "    #  (5) full ripple defined as window back to mean\n",
    "\n",
    "    assert eeg.n_signals == 1, \"only single channel ripple detection currently supported!\"\n",
    "    \n",
    "    # (1)\n",
    "    ripple_eeg = nel.filtering.sosfiltfilt(eeg, fl=150, fh=250)\n",
    "    # (2, 3)\n",
    "    ripple_envelope = nel.utils.signal_envelope1D(ripple_eeg, sigma=0.004)\n",
    "    # (4, 5)\n",
    "    bounds, maxes, events = nel.utils.get_events_boundaries(\n",
    "                x=ripple_envelope.ydata,\n",
    "                PrimaryThreshold=ripple_envelope.mean() + 3.0*ripple_envelope.std(),   # cm/s\n",
    "                SecondaryThreshold=ripple_envelope.mean(),  # cm/s\n",
    "                minThresholdLength=0.015, # threshold crossing must be at least 15 ms long\n",
    "                minLength=0.0, # total ripple duration must be at least XXX ms long\n",
    "                ds = 1/ripple_envelope.fs\n",
    "            )\n",
    "\n",
    "    # convert bounds (in samples) to time in seconds\n",
    "    timebounds = ripple_envelope.time[bounds]\n",
    "\n",
    "    # add 1/fs to stops for open interval\n",
    "    timebounds[:,1] += 1/eeg.fs\n",
    "\n",
    "    # create EpochArray with bounds\n",
    "    ripple_epochs = nel.EpochArray(timebounds)\n",
    "    return ripple_epochs\n",
    "    "
   ]
  },
  {
   "cell_type": "markdown",
   "metadata": {},
   "source": [
    "# Add ripples from all [CA1] tetrodes"
   ]
  },
  {
   "cell_type": "code",
   "execution_count": 14,
   "metadata": {},
   "outputs": [
    {
     "name": "stdout",
     "output_type": "stream",
     "text": [
      "Bon 2\n"
     ]
    },
    {
     "name": "stderr",
     "output_type": "stream",
     "text": [
      "d:\\dropbox\\code\\nelpy\\nelpy\\core\\_analogsignalarray.py:360: UserWarning: creating support from time and sampling rate, fs!\n",
      "d:\\dropbox\\code\\nelpy\\nelpy\\utils.py:549: UserWarning: some steps in the data are smaller than the requested step size.\n",
      "d:\\dropbox\\code\\nelpy\\nelpy\\core\\_analogsignalarray.py:560: UserWarning: ignoring signal outside of support\n",
      "d:\\dropbox\\code\\nelpy\\nelpy\\core\\_analogsignalarray.py:360: UserWarning: creating support from time and sampling rate, fs!\n",
      "d:\\dropbox\\code\\nelpy\\nelpy\\utils.py:549: UserWarning: some steps in the data are smaller than the requested step size.\n",
      "d:\\dropbox\\code\\nelpy\\nelpy\\core\\_analogsignalarray.py:560: UserWarning: ignoring signal outside of support\n",
      "d:\\dropbox\\code\\nelpy\\nelpy\\core\\_analogsignalarray.py:360: UserWarning: creating support from time and sampling rate, fs!\n",
      "d:\\dropbox\\code\\nelpy\\nelpy\\utils.py:549: UserWarning: some steps in the data are smaller than the requested step size.\n",
      "d:\\dropbox\\code\\nelpy\\nelpy\\core\\_analogsignalarray.py:560: UserWarning: ignoring signal outside of support\n",
      "d:\\dropbox\\code\\nelpy\\nelpy\\core\\_analogsignalarray.py:360: UserWarning: creating support from time and sampling rate, fs!\n",
      "d:\\dropbox\\code\\nelpy\\nelpy\\utils.py:549: UserWarning: some steps in the data are smaller than the requested step size.\n",
      "d:\\dropbox\\code\\nelpy\\nelpy\\core\\_analogsignalarray.py:560: UserWarning: ignoring signal outside of support\n",
      "d:\\dropbox\\code\\nelpy\\nelpy\\core\\_analogsignalarray.py:360: UserWarning: creating support from time and sampling rate, fs!\n",
      "d:\\dropbox\\code\\nelpy\\nelpy\\utils.py:549: UserWarning: some steps in the data are smaller than the requested step size.\n",
      "d:\\dropbox\\code\\nelpy\\nelpy\\core\\_analogsignalarray.py:560: UserWarning: ignoring signal outside of support\n",
      "d:\\dropbox\\code\\nelpy\\nelpy\\core\\_analogsignalarray.py:360: UserWarning: creating support from time and sampling rate, fs!\n",
      "d:\\dropbox\\code\\nelpy\\nelpy\\utils.py:549: UserWarning: some steps in the data are smaller than the requested step size.\n",
      "d:\\dropbox\\code\\nelpy\\nelpy\\core\\_analogsignalarray.py:560: UserWarning: ignoring signal outside of support\n",
      "d:\\dropbox\\code\\nelpy\\nelpy\\core\\_analogsignalarray.py:360: UserWarning: creating support from time and sampling rate, fs!\n",
      "d:\\dropbox\\code\\nelpy\\nelpy\\utils.py:549: UserWarning: some steps in the data are smaller than the requested step size.\n",
      "d:\\dropbox\\code\\nelpy\\nelpy\\core\\_analogsignalarray.py:560: UserWarning: ignoring signal outside of support\n",
      "d:\\dropbox\\code\\nelpy\\nelpy\\core\\_analogsignalarray.py:360: UserWarning: creating support from time and sampling rate, fs!\n",
      "d:\\dropbox\\code\\nelpy\\nelpy\\utils.py:549: UserWarning: some steps in the data are smaller than the requested step size.\n",
      "d:\\dropbox\\code\\nelpy\\nelpy\\core\\_analogsignalarray.py:560: UserWarning: ignoring signal outside of support\n",
      "d:\\dropbox\\code\\nelpy\\nelpy\\core\\_analogsignalarray.py:360: UserWarning: creating support from time and sampling rate, fs!\n",
      "d:\\dropbox\\code\\nelpy\\nelpy\\utils.py:549: UserWarning: some steps in the data are smaller than the requested step size.\n",
      "d:\\dropbox\\code\\nelpy\\nelpy\\core\\_analogsignalarray.py:560: UserWarning: ignoring signal outside of support\n",
      "d:\\dropbox\\code\\nelpy\\nelpy\\core\\_analogsignalarray.py:360: UserWarning: creating support from time and sampling rate, fs!\n",
      "d:\\dropbox\\code\\nelpy\\nelpy\\utils.py:549: UserWarning: some steps in the data are smaller than the requested step size.\n",
      "d:\\dropbox\\code\\nelpy\\nelpy\\core\\_analogsignalarray.py:560: UserWarning: ignoring signal outside of support\n",
      "d:\\dropbox\\code\\nelpy\\nelpy\\core\\_analogsignalarray.py:360: UserWarning: creating support from time and sampling rate, fs!\n",
      "d:\\dropbox\\code\\nelpy\\nelpy\\utils.py:549: UserWarning: some steps in the data are smaller than the requested step size.\n",
      "d:\\dropbox\\code\\nelpy\\nelpy\\core\\_analogsignalarray.py:560: UserWarning: ignoring signal outside of support\n"
     ]
    },
    {
     "name": "stdout",
     "output_type": "stream",
     "text": [
      "Bon 3\n"
     ]
    },
    {
     "name": "stderr",
     "output_type": "stream",
     "text": [
      "d:\\dropbox\\code\\nelpy\\nelpy\\core\\_analogsignalarray.py:360: UserWarning: creating support from time and sampling rate, fs!\n",
      "d:\\dropbox\\code\\nelpy\\nelpy\\utils.py:549: UserWarning: some steps in the data are smaller than the requested step size.\n",
      "d:\\dropbox\\code\\nelpy\\nelpy\\core\\_analogsignalarray.py:560: UserWarning: ignoring signal outside of support\n",
      "d:\\dropbox\\code\\nelpy\\nelpy\\core\\_analogsignalarray.py:360: UserWarning: creating support from time and sampling rate, fs!\n",
      "d:\\dropbox\\code\\nelpy\\nelpy\\utils.py:549: UserWarning: some steps in the data are smaller than the requested step size.\n",
      "d:\\dropbox\\code\\nelpy\\nelpy\\core\\_analogsignalarray.py:560: UserWarning: ignoring signal outside of support\n",
      "d:\\dropbox\\code\\nelpy\\nelpy\\core\\_analogsignalarray.py:360: UserWarning: creating support from time and sampling rate, fs!\n",
      "d:\\dropbox\\code\\nelpy\\nelpy\\utils.py:549: UserWarning: some steps in the data are smaller than the requested step size.\n",
      "d:\\dropbox\\code\\nelpy\\nelpy\\core\\_analogsignalarray.py:560: UserWarning: ignoring signal outside of support\n",
      "d:\\dropbox\\code\\nelpy\\nelpy\\core\\_analogsignalarray.py:360: UserWarning: creating support from time and sampling rate, fs!\n",
      "d:\\dropbox\\code\\nelpy\\nelpy\\utils.py:549: UserWarning: some steps in the data are smaller than the requested step size.\n",
      "d:\\dropbox\\code\\nelpy\\nelpy\\core\\_analogsignalarray.py:560: UserWarning: ignoring signal outside of support\n",
      "d:\\dropbox\\code\\nelpy\\nelpy\\core\\_analogsignalarray.py:360: UserWarning: creating support from time and sampling rate, fs!\n",
      "d:\\dropbox\\code\\nelpy\\nelpy\\utils.py:549: UserWarning: some steps in the data are smaller than the requested step size.\n",
      "d:\\dropbox\\code\\nelpy\\nelpy\\core\\_analogsignalarray.py:560: UserWarning: ignoring signal outside of support\n",
      "d:\\dropbox\\code\\nelpy\\nelpy\\core\\_analogsignalarray.py:360: UserWarning: creating support from time and sampling rate, fs!\n",
      "d:\\dropbox\\code\\nelpy\\nelpy\\utils.py:549: UserWarning: some steps in the data are smaller than the requested step size.\n",
      "d:\\dropbox\\code\\nelpy\\nelpy\\core\\_analogsignalarray.py:560: UserWarning: ignoring signal outside of support\n",
      "d:\\dropbox\\code\\nelpy\\nelpy\\core\\_analogsignalarray.py:360: UserWarning: creating support from time and sampling rate, fs!\n",
      "d:\\dropbox\\code\\nelpy\\nelpy\\utils.py:549: UserWarning: some steps in the data are smaller than the requested step size.\n",
      "d:\\dropbox\\code\\nelpy\\nelpy\\core\\_analogsignalarray.py:560: UserWarning: ignoring signal outside of support\n",
      "d:\\dropbox\\code\\nelpy\\nelpy\\core\\_analogsignalarray.py:360: UserWarning: creating support from time and sampling rate, fs!\n",
      "d:\\dropbox\\code\\nelpy\\nelpy\\utils.py:549: UserWarning: some steps in the data are smaller than the requested step size.\n",
      "d:\\dropbox\\code\\nelpy\\nelpy\\core\\_analogsignalarray.py:560: UserWarning: ignoring signal outside of support\n",
      "d:\\dropbox\\code\\nelpy\\nelpy\\core\\_analogsignalarray.py:360: UserWarning: creating support from time and sampling rate, fs!\n",
      "d:\\dropbox\\code\\nelpy\\nelpy\\utils.py:549: UserWarning: some steps in the data are smaller than the requested step size.\n",
      "d:\\dropbox\\code\\nelpy\\nelpy\\core\\_analogsignalarray.py:560: UserWarning: ignoring signal outside of support\n",
      "d:\\dropbox\\code\\nelpy\\nelpy\\core\\_analogsignalarray.py:360: UserWarning: creating support from time and sampling rate, fs!\n",
      "d:\\dropbox\\code\\nelpy\\nelpy\\utils.py:549: UserWarning: some steps in the data are smaller than the requested step size.\n",
      "d:\\dropbox\\code\\nelpy\\nelpy\\core\\_analogsignalarray.py:560: UserWarning: ignoring signal outside of support\n",
      "d:\\dropbox\\code\\nelpy\\nelpy\\core\\_analogsignalarray.py:360: UserWarning: creating support from time and sampling rate, fs!\n",
      "d:\\dropbox\\code\\nelpy\\nelpy\\utils.py:549: UserWarning: some steps in the data are smaller than the requested step size.\n",
      "d:\\dropbox\\code\\nelpy\\nelpy\\core\\_analogsignalarray.py:560: UserWarning: ignoring signal outside of support\n"
     ]
    },
    {
     "name": "stdout",
     "output_type": "stream",
     "text": [
      "Bon 4\n"
     ]
    },
    {
     "name": "stderr",
     "output_type": "stream",
     "text": [
      "d:\\dropbox\\code\\nelpy\\nelpy\\core\\_analogsignalarray.py:360: UserWarning: creating support from time and sampling rate, fs!\n",
      "d:\\dropbox\\code\\nelpy\\nelpy\\utils.py:549: UserWarning: some steps in the data are smaller than the requested step size.\n",
      "d:\\dropbox\\code\\nelpy\\nelpy\\core\\_analogsignalarray.py:560: UserWarning: ignoring signal outside of support\n",
      "d:\\dropbox\\code\\nelpy\\nelpy\\core\\_analogsignalarray.py:360: UserWarning: creating support from time and sampling rate, fs!\n",
      "d:\\dropbox\\code\\nelpy\\nelpy\\utils.py:549: UserWarning: some steps in the data are smaller than the requested step size.\n",
      "d:\\dropbox\\code\\nelpy\\nelpy\\core\\_analogsignalarray.py:560: UserWarning: ignoring signal outside of support\n",
      "d:\\dropbox\\code\\nelpy\\nelpy\\core\\_analogsignalarray.py:360: UserWarning: creating support from time and sampling rate, fs!\n",
      "d:\\dropbox\\code\\nelpy\\nelpy\\utils.py:549: UserWarning: some steps in the data are smaller than the requested step size.\n",
      "d:\\dropbox\\code\\nelpy\\nelpy\\core\\_analogsignalarray.py:560: UserWarning: ignoring signal outside of support\n",
      "d:\\dropbox\\code\\nelpy\\nelpy\\core\\_analogsignalarray.py:360: UserWarning: creating support from time and sampling rate, fs!\n",
      "d:\\dropbox\\code\\nelpy\\nelpy\\utils.py:549: UserWarning: some steps in the data are smaller than the requested step size.\n",
      "d:\\dropbox\\code\\nelpy\\nelpy\\core\\_analogsignalarray.py:560: UserWarning: ignoring signal outside of support\n",
      "d:\\dropbox\\code\\nelpy\\nelpy\\core\\_analogsignalarray.py:360: UserWarning: creating support from time and sampling rate, fs!\n",
      "d:\\dropbox\\code\\nelpy\\nelpy\\utils.py:549: UserWarning: some steps in the data are smaller than the requested step size.\n",
      "d:\\dropbox\\code\\nelpy\\nelpy\\core\\_analogsignalarray.py:560: UserWarning: ignoring signal outside of support\n",
      "d:\\dropbox\\code\\nelpy\\nelpy\\core\\_analogsignalarray.py:360: UserWarning: creating support from time and sampling rate, fs!\n",
      "d:\\dropbox\\code\\nelpy\\nelpy\\utils.py:549: UserWarning: some steps in the data are smaller than the requested step size.\n",
      "d:\\dropbox\\code\\nelpy\\nelpy\\core\\_analogsignalarray.py:560: UserWarning: ignoring signal outside of support\n",
      "d:\\dropbox\\code\\nelpy\\nelpy\\core\\_analogsignalarray.py:360: UserWarning: creating support from time and sampling rate, fs!\n",
      "d:\\dropbox\\code\\nelpy\\nelpy\\utils.py:549: UserWarning: some steps in the data are smaller than the requested step size.\n",
      "d:\\dropbox\\code\\nelpy\\nelpy\\core\\_analogsignalarray.py:560: UserWarning: ignoring signal outside of support\n",
      "d:\\dropbox\\code\\nelpy\\nelpy\\core\\_analogsignalarray.py:360: UserWarning: creating support from time and sampling rate, fs!\n",
      "d:\\dropbox\\code\\nelpy\\nelpy\\utils.py:549: UserWarning: some steps in the data are smaller than the requested step size.\n",
      "d:\\dropbox\\code\\nelpy\\nelpy\\core\\_analogsignalarray.py:560: UserWarning: ignoring signal outside of support\n",
      "d:\\dropbox\\code\\nelpy\\nelpy\\core\\_analogsignalarray.py:360: UserWarning: creating support from time and sampling rate, fs!\n",
      "d:\\dropbox\\code\\nelpy\\nelpy\\utils.py:549: UserWarning: some steps in the data are smaller than the requested step size.\n",
      "d:\\dropbox\\code\\nelpy\\nelpy\\core\\_analogsignalarray.py:560: UserWarning: ignoring signal outside of support\n",
      "d:\\dropbox\\code\\nelpy\\nelpy\\core\\_analogsignalarray.py:360: UserWarning: creating support from time and sampling rate, fs!\n",
      "d:\\dropbox\\code\\nelpy\\nelpy\\utils.py:549: UserWarning: some steps in the data are smaller than the requested step size.\n",
      "d:\\dropbox\\code\\nelpy\\nelpy\\core\\_analogsignalarray.py:560: UserWarning: ignoring signal outside of support\n",
      "d:\\dropbox\\code\\nelpy\\nelpy\\core\\_analogsignalarray.py:360: UserWarning: creating support from time and sampling rate, fs!\n",
      "d:\\dropbox\\code\\nelpy\\nelpy\\utils.py:549: UserWarning: some steps in the data are smaller than the requested step size.\n",
      "d:\\dropbox\\code\\nelpy\\nelpy\\core\\_analogsignalarray.py:560: UserWarning: ignoring signal outside of support\n"
     ]
    },
    {
     "name": "stdout",
     "output_type": "stream",
     "text": [
      "Bon 5\n"
     ]
    },
    {
     "name": "stderr",
     "output_type": "stream",
     "text": [
      "d:\\dropbox\\code\\nelpy\\nelpy\\core\\_analogsignalarray.py:360: UserWarning: creating support from time and sampling rate, fs!\n",
      "d:\\dropbox\\code\\nelpy\\nelpy\\utils.py:549: UserWarning: some steps in the data are smaller than the requested step size.\n",
      "d:\\dropbox\\code\\nelpy\\nelpy\\core\\_analogsignalarray.py:560: UserWarning: ignoring signal outside of support\n",
      "d:\\dropbox\\code\\nelpy\\nelpy\\core\\_analogsignalarray.py:360: UserWarning: creating support from time and sampling rate, fs!\n",
      "d:\\dropbox\\code\\nelpy\\nelpy\\utils.py:549: UserWarning: some steps in the data are smaller than the requested step size.\n",
      "d:\\dropbox\\code\\nelpy\\nelpy\\core\\_analogsignalarray.py:560: UserWarning: ignoring signal outside of support\n",
      "d:\\dropbox\\code\\nelpy\\nelpy\\core\\_analogsignalarray.py:360: UserWarning: creating support from time and sampling rate, fs!\n",
      "d:\\dropbox\\code\\nelpy\\nelpy\\utils.py:549: UserWarning: some steps in the data are smaller than the requested step size.\n",
      "d:\\dropbox\\code\\nelpy\\nelpy\\core\\_analogsignalarray.py:560: UserWarning: ignoring signal outside of support\n",
      "d:\\dropbox\\code\\nelpy\\nelpy\\core\\_analogsignalarray.py:360: UserWarning: creating support from time and sampling rate, fs!\n",
      "d:\\dropbox\\code\\nelpy\\nelpy\\utils.py:549: UserWarning: some steps in the data are smaller than the requested step size.\n",
      "d:\\dropbox\\code\\nelpy\\nelpy\\core\\_analogsignalarray.py:560: UserWarning: ignoring signal outside of support\n",
      "d:\\dropbox\\code\\nelpy\\nelpy\\core\\_analogsignalarray.py:360: UserWarning: creating support from time and sampling rate, fs!\n",
      "d:\\dropbox\\code\\nelpy\\nelpy\\utils.py:549: UserWarning: some steps in the data are smaller than the requested step size.\n",
      "d:\\dropbox\\code\\nelpy\\nelpy\\core\\_analogsignalarray.py:560: UserWarning: ignoring signal outside of support\n",
      "d:\\dropbox\\code\\nelpy\\nelpy\\core\\_analogsignalarray.py:360: UserWarning: creating support from time and sampling rate, fs!\n",
      "d:\\dropbox\\code\\nelpy\\nelpy\\utils.py:549: UserWarning: some steps in the data are smaller than the requested step size.\n",
      "d:\\dropbox\\code\\nelpy\\nelpy\\core\\_analogsignalarray.py:560: UserWarning: ignoring signal outside of support\n",
      "d:\\dropbox\\code\\nelpy\\nelpy\\core\\_analogsignalarray.py:360: UserWarning: creating support from time and sampling rate, fs!\n",
      "d:\\dropbox\\code\\nelpy\\nelpy\\utils.py:549: UserWarning: some steps in the data are smaller than the requested step size.\n",
      "d:\\dropbox\\code\\nelpy\\nelpy\\core\\_analogsignalarray.py:560: UserWarning: ignoring signal outside of support\n",
      "d:\\dropbox\\code\\nelpy\\nelpy\\core\\_analogsignalarray.py:360: UserWarning: creating support from time and sampling rate, fs!\n",
      "d:\\dropbox\\code\\nelpy\\nelpy\\utils.py:549: UserWarning: some steps in the data are smaller than the requested step size.\n",
      "d:\\dropbox\\code\\nelpy\\nelpy\\core\\_analogsignalarray.py:560: UserWarning: ignoring signal outside of support\n",
      "d:\\dropbox\\code\\nelpy\\nelpy\\core\\_analogsignalarray.py:360: UserWarning: creating support from time and sampling rate, fs!\n",
      "d:\\dropbox\\code\\nelpy\\nelpy\\utils.py:549: UserWarning: some steps in the data are smaller than the requested step size.\n",
      "d:\\dropbox\\code\\nelpy\\nelpy\\core\\_analogsignalarray.py:560: UserWarning: ignoring signal outside of support\n",
      "d:\\dropbox\\code\\nelpy\\nelpy\\core\\_analogsignalarray.py:360: UserWarning: creating support from time and sampling rate, fs!\n",
      "d:\\dropbox\\code\\nelpy\\nelpy\\utils.py:549: UserWarning: some steps in the data are smaller than the requested step size.\n",
      "d:\\dropbox\\code\\nelpy\\nelpy\\core\\_analogsignalarray.py:560: UserWarning: ignoring signal outside of support\n",
      "d:\\dropbox\\code\\nelpy\\nelpy\\core\\_analogsignalarray.py:360: UserWarning: creating support from time and sampling rate, fs!\n",
      "d:\\dropbox\\code\\nelpy\\nelpy\\utils.py:549: UserWarning: some steps in the data are smaller than the requested step size.\n",
      "d:\\dropbox\\code\\nelpy\\nelpy\\core\\_analogsignalarray.py:560: UserWarning: ignoring signal outside of support\n"
     ]
    },
    {
     "name": "stdout",
     "output_type": "stream",
     "text": [
      "Bon 6\n"
     ]
    },
    {
     "name": "stderr",
     "output_type": "stream",
     "text": [
      "d:\\dropbox\\code\\nelpy\\nelpy\\core\\_analogsignalarray.py:360: UserWarning: creating support from time and sampling rate, fs!\n",
      "d:\\dropbox\\code\\nelpy\\nelpy\\utils.py:549: UserWarning: some steps in the data are smaller than the requested step size.\n",
      "d:\\dropbox\\code\\nelpy\\nelpy\\core\\_analogsignalarray.py:560: UserWarning: ignoring signal outside of support\n",
      "d:\\dropbox\\code\\nelpy\\nelpy\\core\\_analogsignalarray.py:360: UserWarning: creating support from time and sampling rate, fs!\n",
      "d:\\dropbox\\code\\nelpy\\nelpy\\utils.py:549: UserWarning: some steps in the data are smaller than the requested step size.\n",
      "d:\\dropbox\\code\\nelpy\\nelpy\\core\\_analogsignalarray.py:560: UserWarning: ignoring signal outside of support\n",
      "d:\\dropbox\\code\\nelpy\\nelpy\\core\\_analogsignalarray.py:360: UserWarning: creating support from time and sampling rate, fs!\n",
      "d:\\dropbox\\code\\nelpy\\nelpy\\utils.py:549: UserWarning: some steps in the data are smaller than the requested step size.\n",
      "d:\\dropbox\\code\\nelpy\\nelpy\\core\\_analogsignalarray.py:560: UserWarning: ignoring signal outside of support\n",
      "d:\\dropbox\\code\\nelpy\\nelpy\\core\\_analogsignalarray.py:360: UserWarning: creating support from time and sampling rate, fs!\n",
      "d:\\dropbox\\code\\nelpy\\nelpy\\utils.py:549: UserWarning: some steps in the data are smaller than the requested step size.\n",
      "d:\\dropbox\\code\\nelpy\\nelpy\\core\\_analogsignalarray.py:560: UserWarning: ignoring signal outside of support\n",
      "d:\\dropbox\\code\\nelpy\\nelpy\\core\\_analogsignalarray.py:360: UserWarning: creating support from time and sampling rate, fs!\n",
      "d:\\dropbox\\code\\nelpy\\nelpy\\utils.py:549: UserWarning: some steps in the data are smaller than the requested step size.\n",
      "d:\\dropbox\\code\\nelpy\\nelpy\\core\\_analogsignalarray.py:560: UserWarning: ignoring signal outside of support\n",
      "d:\\dropbox\\code\\nelpy\\nelpy\\core\\_analogsignalarray.py:360: UserWarning: creating support from time and sampling rate, fs!\n",
      "d:\\dropbox\\code\\nelpy\\nelpy\\utils.py:549: UserWarning: some steps in the data are smaller than the requested step size.\n",
      "d:\\dropbox\\code\\nelpy\\nelpy\\core\\_analogsignalarray.py:560: UserWarning: ignoring signal outside of support\n",
      "d:\\dropbox\\code\\nelpy\\nelpy\\core\\_analogsignalarray.py:360: UserWarning: creating support from time and sampling rate, fs!\n",
      "d:\\dropbox\\code\\nelpy\\nelpy\\utils.py:549: UserWarning: some steps in the data are smaller than the requested step size.\n",
      "d:\\dropbox\\code\\nelpy\\nelpy\\core\\_analogsignalarray.py:560: UserWarning: ignoring signal outside of support\n",
      "d:\\dropbox\\code\\nelpy\\nelpy\\core\\_analogsignalarray.py:360: UserWarning: creating support from time and sampling rate, fs!\n",
      "d:\\dropbox\\code\\nelpy\\nelpy\\utils.py:549: UserWarning: some steps in the data are smaller than the requested step size.\n",
      "d:\\dropbox\\code\\nelpy\\nelpy\\core\\_analogsignalarray.py:560: UserWarning: ignoring signal outside of support\n",
      "d:\\dropbox\\code\\nelpy\\nelpy\\core\\_analogsignalarray.py:360: UserWarning: creating support from time and sampling rate, fs!\n",
      "d:\\dropbox\\code\\nelpy\\nelpy\\utils.py:549: UserWarning: some steps in the data are smaller than the requested step size.\n",
      "d:\\dropbox\\code\\nelpy\\nelpy\\core\\_analogsignalarray.py:560: UserWarning: ignoring signal outside of support\n",
      "d:\\dropbox\\code\\nelpy\\nelpy\\core\\_analogsignalarray.py:360: UserWarning: creating support from time and sampling rate, fs!\n",
      "d:\\dropbox\\code\\nelpy\\nelpy\\utils.py:549: UserWarning: some steps in the data are smaller than the requested step size.\n",
      "d:\\dropbox\\code\\nelpy\\nelpy\\core\\_analogsignalarray.py:560: UserWarning: ignoring signal outside of support\n",
      "d:\\dropbox\\code\\nelpy\\nelpy\\core\\_analogsignalarray.py:360: UserWarning: creating support from time and sampling rate, fs!\n",
      "d:\\dropbox\\code\\nelpy\\nelpy\\utils.py:549: UserWarning: some steps in the data are smaller than the requested step size.\n",
      "d:\\dropbox\\code\\nelpy\\nelpy\\core\\_analogsignalarray.py:560: UserWarning: ignoring signal outside of support\n"
     ]
    },
    {
     "name": "stdout",
     "output_type": "stream",
     "text": [
      "Bon 7\n"
     ]
    },
    {
     "name": "stderr",
     "output_type": "stream",
     "text": [
      "d:\\dropbox\\code\\nelpy\\nelpy\\core\\_analogsignalarray.py:360: UserWarning: creating support from time and sampling rate, fs!\n",
      "d:\\dropbox\\code\\nelpy\\nelpy\\utils.py:549: UserWarning: some steps in the data are smaller than the requested step size.\n",
      "d:\\dropbox\\code\\nelpy\\nelpy\\core\\_analogsignalarray.py:560: UserWarning: ignoring signal outside of support\n",
      "d:\\dropbox\\code\\nelpy\\nelpy\\core\\_analogsignalarray.py:360: UserWarning: creating support from time and sampling rate, fs!\n",
      "d:\\dropbox\\code\\nelpy\\nelpy\\utils.py:549: UserWarning: some steps in the data are smaller than the requested step size.\n",
      "d:\\dropbox\\code\\nelpy\\nelpy\\core\\_analogsignalarray.py:560: UserWarning: ignoring signal outside of support\n",
      "d:\\dropbox\\code\\nelpy\\nelpy\\core\\_analogsignalarray.py:360: UserWarning: creating support from time and sampling rate, fs!\n",
      "d:\\dropbox\\code\\nelpy\\nelpy\\utils.py:549: UserWarning: some steps in the data are smaller than the requested step size.\n",
      "d:\\dropbox\\code\\nelpy\\nelpy\\core\\_analogsignalarray.py:560: UserWarning: ignoring signal outside of support\n",
      "d:\\dropbox\\code\\nelpy\\nelpy\\core\\_analogsignalarray.py:360: UserWarning: creating support from time and sampling rate, fs!\n",
      "d:\\dropbox\\code\\nelpy\\nelpy\\utils.py:549: UserWarning: some steps in the data are smaller than the requested step size.\n",
      "d:\\dropbox\\code\\nelpy\\nelpy\\core\\_analogsignalarray.py:560: UserWarning: ignoring signal outside of support\n",
      "d:\\dropbox\\code\\nelpy\\nelpy\\core\\_analogsignalarray.py:360: UserWarning: creating support from time and sampling rate, fs!\n",
      "d:\\dropbox\\code\\nelpy\\nelpy\\utils.py:549: UserWarning: some steps in the data are smaller than the requested step size.\n",
      "d:\\dropbox\\code\\nelpy\\nelpy\\core\\_analogsignalarray.py:560: UserWarning: ignoring signal outside of support\n",
      "d:\\dropbox\\code\\nelpy\\nelpy\\core\\_analogsignalarray.py:360: UserWarning: creating support from time and sampling rate, fs!\n",
      "d:\\dropbox\\code\\nelpy\\nelpy\\utils.py:549: UserWarning: some steps in the data are smaller than the requested step size.\n",
      "d:\\dropbox\\code\\nelpy\\nelpy\\core\\_analogsignalarray.py:560: UserWarning: ignoring signal outside of support\n",
      "d:\\dropbox\\code\\nelpy\\nelpy\\core\\_analogsignalarray.py:360: UserWarning: creating support from time and sampling rate, fs!\n",
      "d:\\dropbox\\code\\nelpy\\nelpy\\utils.py:549: UserWarning: some steps in the data are smaller than the requested step size.\n",
      "d:\\dropbox\\code\\nelpy\\nelpy\\core\\_analogsignalarray.py:560: UserWarning: ignoring signal outside of support\n",
      "d:\\dropbox\\code\\nelpy\\nelpy\\core\\_analogsignalarray.py:360: UserWarning: creating support from time and sampling rate, fs!\n",
      "d:\\dropbox\\code\\nelpy\\nelpy\\utils.py:549: UserWarning: some steps in the data are smaller than the requested step size.\n",
      "d:\\dropbox\\code\\nelpy\\nelpy\\core\\_analogsignalarray.py:560: UserWarning: ignoring signal outside of support\n",
      "d:\\dropbox\\code\\nelpy\\nelpy\\core\\_analogsignalarray.py:360: UserWarning: creating support from time and sampling rate, fs!\n",
      "d:\\dropbox\\code\\nelpy\\nelpy\\utils.py:549: UserWarning: some steps in the data are smaller than the requested step size.\n",
      "d:\\dropbox\\code\\nelpy\\nelpy\\core\\_analogsignalarray.py:560: UserWarning: ignoring signal outside of support\n",
      "d:\\dropbox\\code\\nelpy\\nelpy\\core\\_analogsignalarray.py:360: UserWarning: creating support from time and sampling rate, fs!\n",
      "d:\\dropbox\\code\\nelpy\\nelpy\\utils.py:549: UserWarning: some steps in the data are smaller than the requested step size.\n",
      "d:\\dropbox\\code\\nelpy\\nelpy\\core\\_analogsignalarray.py:560: UserWarning: ignoring signal outside of support\n",
      "d:\\dropbox\\code\\nelpy\\nelpy\\core\\_analogsignalarray.py:360: UserWarning: creating support from time and sampling rate, fs!\n",
      "d:\\dropbox\\code\\nelpy\\nelpy\\utils.py:549: UserWarning: some steps in the data are smaller than the requested step size.\n",
      "d:\\dropbox\\code\\nelpy\\nelpy\\core\\_analogsignalarray.py:560: UserWarning: ignoring signal outside of support\n"
     ]
    },
    {
     "name": "stdout",
     "output_type": "stream",
     "text": [
      "Bon 8\n"
     ]
    },
    {
     "name": "stderr",
     "output_type": "stream",
     "text": [
      "d:\\dropbox\\code\\nelpy\\nelpy\\core\\_analogsignalarray.py:360: UserWarning: creating support from time and sampling rate, fs!\n",
      "d:\\dropbox\\code\\nelpy\\nelpy\\utils.py:549: UserWarning: some steps in the data are smaller than the requested step size.\n",
      "d:\\dropbox\\code\\nelpy\\nelpy\\core\\_analogsignalarray.py:560: UserWarning: ignoring signal outside of support\n",
      "d:\\dropbox\\code\\nelpy\\nelpy\\core\\_analogsignalarray.py:360: UserWarning: creating support from time and sampling rate, fs!\n",
      "d:\\dropbox\\code\\nelpy\\nelpy\\utils.py:549: UserWarning: some steps in the data are smaller than the requested step size.\n",
      "d:\\dropbox\\code\\nelpy\\nelpy\\core\\_analogsignalarray.py:560: UserWarning: ignoring signal outside of support\n",
      "d:\\dropbox\\code\\nelpy\\nelpy\\core\\_analogsignalarray.py:360: UserWarning: creating support from time and sampling rate, fs!\n",
      "d:\\dropbox\\code\\nelpy\\nelpy\\utils.py:549: UserWarning: some steps in the data are smaller than the requested step size.\n",
      "d:\\dropbox\\code\\nelpy\\nelpy\\core\\_analogsignalarray.py:560: UserWarning: ignoring signal outside of support\n",
      "d:\\dropbox\\code\\nelpy\\nelpy\\core\\_analogsignalarray.py:360: UserWarning: creating support from time and sampling rate, fs!\n",
      "d:\\dropbox\\code\\nelpy\\nelpy\\utils.py:549: UserWarning: some steps in the data are smaller than the requested step size.\n",
      "d:\\dropbox\\code\\nelpy\\nelpy\\core\\_analogsignalarray.py:560: UserWarning: ignoring signal outside of support\n",
      "d:\\dropbox\\code\\nelpy\\nelpy\\core\\_analogsignalarray.py:360: UserWarning: creating support from time and sampling rate, fs!\n",
      "d:\\dropbox\\code\\nelpy\\nelpy\\utils.py:549: UserWarning: some steps in the data are smaller than the requested step size.\n",
      "d:\\dropbox\\code\\nelpy\\nelpy\\core\\_analogsignalarray.py:560: UserWarning: ignoring signal outside of support\n",
      "d:\\dropbox\\code\\nelpy\\nelpy\\core\\_analogsignalarray.py:360: UserWarning: creating support from time and sampling rate, fs!\n",
      "d:\\dropbox\\code\\nelpy\\nelpy\\utils.py:549: UserWarning: some steps in the data are smaller than the requested step size.\n",
      "d:\\dropbox\\code\\nelpy\\nelpy\\core\\_analogsignalarray.py:560: UserWarning: ignoring signal outside of support\n",
      "d:\\dropbox\\code\\nelpy\\nelpy\\core\\_analogsignalarray.py:360: UserWarning: creating support from time and sampling rate, fs!\n",
      "d:\\dropbox\\code\\nelpy\\nelpy\\utils.py:549: UserWarning: some steps in the data are smaller than the requested step size.\n",
      "d:\\dropbox\\code\\nelpy\\nelpy\\core\\_analogsignalarray.py:560: UserWarning: ignoring signal outside of support\n",
      "d:\\dropbox\\code\\nelpy\\nelpy\\core\\_analogsignalarray.py:360: UserWarning: creating support from time and sampling rate, fs!\n",
      "d:\\dropbox\\code\\nelpy\\nelpy\\utils.py:549: UserWarning: some steps in the data are smaller than the requested step size.\n",
      "d:\\dropbox\\code\\nelpy\\nelpy\\core\\_analogsignalarray.py:560: UserWarning: ignoring signal outside of support\n",
      "d:\\dropbox\\code\\nelpy\\nelpy\\core\\_analogsignalarray.py:360: UserWarning: creating support from time and sampling rate, fs!\n",
      "d:\\dropbox\\code\\nelpy\\nelpy\\utils.py:549: UserWarning: some steps in the data are smaller than the requested step size.\n",
      "d:\\dropbox\\code\\nelpy\\nelpy\\core\\_analogsignalarray.py:560: UserWarning: ignoring signal outside of support\n",
      "d:\\dropbox\\code\\nelpy\\nelpy\\core\\_analogsignalarray.py:360: UserWarning: creating support from time and sampling rate, fs!\n",
      "d:\\dropbox\\code\\nelpy\\nelpy\\utils.py:549: UserWarning: some steps in the data are smaller than the requested step size.\n",
      "d:\\dropbox\\code\\nelpy\\nelpy\\core\\_analogsignalarray.py:560: UserWarning: ignoring signal outside of support\n",
      "d:\\dropbox\\code\\nelpy\\nelpy\\core\\_analogsignalarray.py:360: UserWarning: creating support from time and sampling rate, fs!\n",
      "d:\\dropbox\\code\\nelpy\\nelpy\\utils.py:549: UserWarning: some steps in the data are smaller than the requested step size.\n",
      "d:\\dropbox\\code\\nelpy\\nelpy\\core\\_analogsignalarray.py:560: UserWarning: ignoring signal outside of support\n"
     ]
    },
    {
     "name": "stdout",
     "output_type": "stream",
     "text": [
      "Bon 9\n"
     ]
    },
    {
     "name": "stderr",
     "output_type": "stream",
     "text": [
      "d:\\dropbox\\code\\nelpy\\nelpy\\core\\_analogsignalarray.py:360: UserWarning: creating support from time and sampling rate, fs!\n",
      "d:\\dropbox\\code\\nelpy\\nelpy\\utils.py:549: UserWarning: some steps in the data are smaller than the requested step size.\n",
      "d:\\dropbox\\code\\nelpy\\nelpy\\core\\_analogsignalarray.py:560: UserWarning: ignoring signal outside of support\n",
      "d:\\dropbox\\code\\nelpy\\nelpy\\core\\_analogsignalarray.py:360: UserWarning: creating support from time and sampling rate, fs!\n",
      "d:\\dropbox\\code\\nelpy\\nelpy\\utils.py:549: UserWarning: some steps in the data are smaller than the requested step size.\n",
      "d:\\dropbox\\code\\nelpy\\nelpy\\core\\_analogsignalarray.py:560: UserWarning: ignoring signal outside of support\n",
      "d:\\dropbox\\code\\nelpy\\nelpy\\core\\_analogsignalarray.py:360: UserWarning: creating support from time and sampling rate, fs!\n",
      "d:\\dropbox\\code\\nelpy\\nelpy\\utils.py:549: UserWarning: some steps in the data are smaller than the requested step size.\n",
      "d:\\dropbox\\code\\nelpy\\nelpy\\core\\_analogsignalarray.py:560: UserWarning: ignoring signal outside of support\n",
      "d:\\dropbox\\code\\nelpy\\nelpy\\core\\_analogsignalarray.py:360: UserWarning: creating support from time and sampling rate, fs!\n",
      "d:\\dropbox\\code\\nelpy\\nelpy\\utils.py:549: UserWarning: some steps in the data are smaller than the requested step size.\n",
      "d:\\dropbox\\code\\nelpy\\nelpy\\core\\_analogsignalarray.py:560: UserWarning: ignoring signal outside of support\n",
      "d:\\dropbox\\code\\nelpy\\nelpy\\core\\_analogsignalarray.py:360: UserWarning: creating support from time and sampling rate, fs!\n",
      "d:\\dropbox\\code\\nelpy\\nelpy\\utils.py:549: UserWarning: some steps in the data are smaller than the requested step size.\n",
      "d:\\dropbox\\code\\nelpy\\nelpy\\core\\_analogsignalarray.py:560: UserWarning: ignoring signal outside of support\n",
      "d:\\dropbox\\code\\nelpy\\nelpy\\core\\_analogsignalarray.py:360: UserWarning: creating support from time and sampling rate, fs!\n",
      "d:\\dropbox\\code\\nelpy\\nelpy\\utils.py:549: UserWarning: some steps in the data are smaller than the requested step size.\n",
      "d:\\dropbox\\code\\nelpy\\nelpy\\core\\_analogsignalarray.py:560: UserWarning: ignoring signal outside of support\n",
      "d:\\dropbox\\code\\nelpy\\nelpy\\core\\_analogsignalarray.py:360: UserWarning: creating support from time and sampling rate, fs!\n",
      "d:\\dropbox\\code\\nelpy\\nelpy\\utils.py:549: UserWarning: some steps in the data are smaller than the requested step size.\n",
      "d:\\dropbox\\code\\nelpy\\nelpy\\core\\_analogsignalarray.py:560: UserWarning: ignoring signal outside of support\n",
      "d:\\dropbox\\code\\nelpy\\nelpy\\core\\_analogsignalarray.py:360: UserWarning: creating support from time and sampling rate, fs!\n",
      "d:\\dropbox\\code\\nelpy\\nelpy\\utils.py:549: UserWarning: some steps in the data are smaller than the requested step size.\n",
      "d:\\dropbox\\code\\nelpy\\nelpy\\core\\_analogsignalarray.py:560: UserWarning: ignoring signal outside of support\n",
      "d:\\dropbox\\code\\nelpy\\nelpy\\core\\_analogsignalarray.py:360: UserWarning: creating support from time and sampling rate, fs!\n",
      "d:\\dropbox\\code\\nelpy\\nelpy\\utils.py:549: UserWarning: some steps in the data are smaller than the requested step size.\n",
      "d:\\dropbox\\code\\nelpy\\nelpy\\core\\_analogsignalarray.py:560: UserWarning: ignoring signal outside of support\n",
      "d:\\dropbox\\code\\nelpy\\nelpy\\core\\_analogsignalarray.py:360: UserWarning: creating support from time and sampling rate, fs!\n",
      "d:\\dropbox\\code\\nelpy\\nelpy\\utils.py:549: UserWarning: some steps in the data are smaller than the requested step size.\n",
      "d:\\dropbox\\code\\nelpy\\nelpy\\core\\_analogsignalarray.py:560: UserWarning: ignoring signal outside of support\n",
      "d:\\dropbox\\code\\nelpy\\nelpy\\core\\_analogsignalarray.py:360: UserWarning: creating support from time and sampling rate, fs!\n",
      "d:\\dropbox\\code\\nelpy\\nelpy\\utils.py:549: UserWarning: some steps in the data are smaller than the requested step size.\n",
      "d:\\dropbox\\code\\nelpy\\nelpy\\core\\_analogsignalarray.py:560: UserWarning: ignoring signal outside of support\n"
     ]
    },
    {
     "name": "stdout",
     "output_type": "stream",
     "text": [
      "Con 0\n"
     ]
    },
    {
     "name": "stderr",
     "output_type": "stream",
     "text": [
      "d:\\dropbox\\code\\nelpy\\nelpy\\core\\_analogsignalarray.py:360: UserWarning: creating support from time and sampling rate, fs!\n",
      "d:\\dropbox\\code\\nelpy\\nelpy\\utils.py:549: UserWarning: some steps in the data are smaller than the requested step size.\n",
      "d:\\dropbox\\code\\nelpy\\nelpy\\core\\_analogsignalarray.py:560: UserWarning: ignoring signal outside of support\n",
      "d:\\dropbox\\code\\nelpy\\nelpy\\core\\_analogsignalarray.py:360: UserWarning: creating support from time and sampling rate, fs!\n",
      "d:\\dropbox\\code\\nelpy\\nelpy\\utils.py:549: UserWarning: some steps in the data are smaller than the requested step size.\n",
      "d:\\dropbox\\code\\nelpy\\nelpy\\core\\_analogsignalarray.py:560: UserWarning: ignoring signal outside of support\n",
      "d:\\dropbox\\code\\nelpy\\nelpy\\core\\_analogsignalarray.py:360: UserWarning: creating support from time and sampling rate, fs!\n",
      "d:\\dropbox\\code\\nelpy\\nelpy\\utils.py:549: UserWarning: some steps in the data are smaller than the requested step size.\n",
      "d:\\dropbox\\code\\nelpy\\nelpy\\core\\_analogsignalarray.py:560: UserWarning: ignoring signal outside of support\n",
      "d:\\dropbox\\code\\nelpy\\nelpy\\core\\_analogsignalarray.py:360: UserWarning: creating support from time and sampling rate, fs!\n",
      "d:\\dropbox\\code\\nelpy\\nelpy\\utils.py:549: UserWarning: some steps in the data are smaller than the requested step size.\n",
      "d:\\dropbox\\code\\nelpy\\nelpy\\core\\_analogsignalarray.py:560: UserWarning: ignoring signal outside of support\n"
     ]
    },
    {
     "name": "stdout",
     "output_type": "stream",
     "text": [
      "Con 1\n"
     ]
    },
    {
     "name": "stderr",
     "output_type": "stream",
     "text": [
      "d:\\dropbox\\code\\nelpy\\nelpy\\core\\_analogsignalarray.py:360: UserWarning: creating support from time and sampling rate, fs!\n",
      "d:\\dropbox\\code\\nelpy\\nelpy\\utils.py:549: UserWarning: some steps in the data are smaller than the requested step size.\n",
      "d:\\dropbox\\code\\nelpy\\nelpy\\core\\_analogsignalarray.py:560: UserWarning: ignoring signal outside of support\n",
      "d:\\dropbox\\code\\nelpy\\nelpy\\core\\_analogsignalarray.py:360: UserWarning: creating support from time and sampling rate, fs!\n",
      "d:\\dropbox\\code\\nelpy\\nelpy\\utils.py:549: UserWarning: some steps in the data are smaller than the requested step size.\n",
      "d:\\dropbox\\code\\nelpy\\nelpy\\core\\_analogsignalarray.py:560: UserWarning: ignoring signal outside of support\n",
      "d:\\dropbox\\code\\nelpy\\nelpy\\core\\_analogsignalarray.py:360: UserWarning: creating support from time and sampling rate, fs!\n",
      "d:\\dropbox\\code\\nelpy\\nelpy\\utils.py:549: UserWarning: some steps in the data are smaller than the requested step size.\n",
      "d:\\dropbox\\code\\nelpy\\nelpy\\core\\_analogsignalarray.py:560: UserWarning: ignoring signal outside of support\n",
      "d:\\dropbox\\code\\nelpy\\nelpy\\core\\_analogsignalarray.py:360: UserWarning: creating support from time and sampling rate, fs!\n",
      "d:\\dropbox\\code\\nelpy\\nelpy\\utils.py:549: UserWarning: some steps in the data are smaller than the requested step size.\n",
      "d:\\dropbox\\code\\nelpy\\nelpy\\core\\_analogsignalarray.py:560: UserWarning: ignoring signal outside of support\n"
     ]
    },
    {
     "name": "stdout",
     "output_type": "stream",
     "text": [
      "Con 2\n"
     ]
    },
    {
     "name": "stderr",
     "output_type": "stream",
     "text": [
      "d:\\dropbox\\code\\nelpy\\nelpy\\core\\_analogsignalarray.py:332: UserWarning: Data is _not_ sorted! Data will be sorted automatically.\n",
      "d:\\dropbox\\code\\nelpy\\nelpy\\core\\_analogsignalarray.py:360: UserWarning: creating support from time and sampling rate, fs!\n",
      "d:\\dropbox\\code\\nelpy\\nelpy\\utils.py:549: UserWarning: some steps in the data are smaller than the requested step size.\n",
      "d:\\dropbox\\code\\nelpy\\nelpy\\core\\_analogsignalarray.py:560: UserWarning: ignoring signal outside of support\n",
      "d:\\dropbox\\code\\nelpy\\nelpy\\core\\_analogsignalarray.py:332: UserWarning: Data is _not_ sorted! Data will be sorted automatically.\n",
      "d:\\dropbox\\code\\nelpy\\nelpy\\core\\_analogsignalarray.py:360: UserWarning: creating support from time and sampling rate, fs!\n",
      "d:\\dropbox\\code\\nelpy\\nelpy\\utils.py:549: UserWarning: some steps in the data are smaller than the requested step size.\n",
      "d:\\dropbox\\code\\nelpy\\nelpy\\core\\_analogsignalarray.py:560: UserWarning: ignoring signal outside of support\n",
      "d:\\dropbox\\code\\nelpy\\nelpy\\core\\_analogsignalarray.py:332: UserWarning: Data is _not_ sorted! Data will be sorted automatically.\n",
      "d:\\dropbox\\code\\nelpy\\nelpy\\core\\_analogsignalarray.py:360: UserWarning: creating support from time and sampling rate, fs!\n",
      "d:\\dropbox\\code\\nelpy\\nelpy\\utils.py:549: UserWarning: some steps in the data are smaller than the requested step size.\n",
      "d:\\dropbox\\code\\nelpy\\nelpy\\core\\_analogsignalarray.py:560: UserWarning: ignoring signal outside of support\n",
      "d:\\dropbox\\code\\nelpy\\nelpy\\core\\_analogsignalarray.py:332: UserWarning: Data is _not_ sorted! Data will be sorted automatically.\n",
      "d:\\dropbox\\code\\nelpy\\nelpy\\core\\_analogsignalarray.py:360: UserWarning: creating support from time and sampling rate, fs!\n",
      "d:\\dropbox\\code\\nelpy\\nelpy\\utils.py:549: UserWarning: some steps in the data are smaller than the requested step size.\n",
      "d:\\dropbox\\code\\nelpy\\nelpy\\core\\_analogsignalarray.py:560: UserWarning: ignoring signal outside of support\n"
     ]
    },
    {
     "name": "stdout",
     "output_type": "stream",
     "text": [
      "Con 3\n"
     ]
    },
    {
     "name": "stderr",
     "output_type": "stream",
     "text": [
      "d:\\dropbox\\code\\nelpy\\nelpy\\core\\_analogsignalarray.py:360: UserWarning: creating support from time and sampling rate, fs!\n",
      "d:\\dropbox\\code\\nelpy\\nelpy\\utils.py:549: UserWarning: some steps in the data are smaller than the requested step size.\n",
      "d:\\dropbox\\code\\nelpy\\nelpy\\core\\_analogsignalarray.py:560: UserWarning: ignoring signal outside of support\n",
      "d:\\dropbox\\code\\nelpy\\nelpy\\core\\_analogsignalarray.py:360: UserWarning: creating support from time and sampling rate, fs!\n",
      "d:\\dropbox\\code\\nelpy\\nelpy\\utils.py:549: UserWarning: some steps in the data are smaller than the requested step size.\n",
      "d:\\dropbox\\code\\nelpy\\nelpy\\core\\_analogsignalarray.py:560: UserWarning: ignoring signal outside of support\n",
      "d:\\dropbox\\code\\nelpy\\nelpy\\core\\_analogsignalarray.py:360: UserWarning: creating support from time and sampling rate, fs!\n",
      "d:\\dropbox\\code\\nelpy\\nelpy\\utils.py:549: UserWarning: some steps in the data are smaller than the requested step size.\n",
      "d:\\dropbox\\code\\nelpy\\nelpy\\core\\_analogsignalarray.py:560: UserWarning: ignoring signal outside of support\n",
      "d:\\dropbox\\code\\nelpy\\nelpy\\core\\_analogsignalarray.py:360: UserWarning: creating support from time and sampling rate, fs!\n",
      "d:\\dropbox\\code\\nelpy\\nelpy\\utils.py:549: UserWarning: some steps in the data are smaller than the requested step size.\n",
      "d:\\dropbox\\code\\nelpy\\nelpy\\core\\_analogsignalarray.py:560: UserWarning: ignoring signal outside of support\n"
     ]
    },
    {
     "name": "stdout",
     "output_type": "stream",
     "text": [
      "Con 4\n"
     ]
    },
    {
     "name": "stderr",
     "output_type": "stream",
     "text": [
      "d:\\dropbox\\code\\nelpy\\nelpy\\core\\_analogsignalarray.py:360: UserWarning: creating support from time and sampling rate, fs!\n",
      "d:\\dropbox\\code\\nelpy\\nelpy\\utils.py:549: UserWarning: some steps in the data are smaller than the requested step size.\n",
      "d:\\dropbox\\code\\nelpy\\nelpy\\core\\_analogsignalarray.py:560: UserWarning: ignoring signal outside of support\n",
      "d:\\dropbox\\code\\nelpy\\nelpy\\core\\_analogsignalarray.py:360: UserWarning: creating support from time and sampling rate, fs!\n",
      "d:\\dropbox\\code\\nelpy\\nelpy\\utils.py:549: UserWarning: some steps in the data are smaller than the requested step size.\n",
      "d:\\dropbox\\code\\nelpy\\nelpy\\core\\_analogsignalarray.py:560: UserWarning: ignoring signal outside of support\n",
      "d:\\dropbox\\code\\nelpy\\nelpy\\core\\_analogsignalarray.py:360: UserWarning: creating support from time and sampling rate, fs!\n",
      "d:\\dropbox\\code\\nelpy\\nelpy\\utils.py:549: UserWarning: some steps in the data are smaller than the requested step size.\n",
      "d:\\dropbox\\code\\nelpy\\nelpy\\core\\_analogsignalarray.py:560: UserWarning: ignoring signal outside of support\n",
      "d:\\dropbox\\code\\nelpy\\nelpy\\core\\_analogsignalarray.py:360: UserWarning: creating support from time and sampling rate, fs!\n",
      "d:\\dropbox\\code\\nelpy\\nelpy\\utils.py:549: UserWarning: some steps in the data are smaller than the requested step size.\n",
      "d:\\dropbox\\code\\nelpy\\nelpy\\core\\_analogsignalarray.py:560: UserWarning: ignoring signal outside of support\n"
     ]
    },
    {
     "name": "stdout",
     "output_type": "stream",
     "text": [
      "Con 5\n"
     ]
    },
    {
     "name": "stderr",
     "output_type": "stream",
     "text": [
      "d:\\dropbox\\code\\nelpy\\nelpy\\core\\_analogsignalarray.py:360: UserWarning: creating support from time and sampling rate, fs!\n",
      "d:\\dropbox\\code\\nelpy\\nelpy\\utils.py:549: UserWarning: some steps in the data are smaller than the requested step size.\n",
      "d:\\dropbox\\code\\nelpy\\nelpy\\core\\_analogsignalarray.py:560: UserWarning: ignoring signal outside of support\n",
      "d:\\dropbox\\code\\nelpy\\nelpy\\core\\_analogsignalarray.py:360: UserWarning: creating support from time and sampling rate, fs!\n",
      "d:\\dropbox\\code\\nelpy\\nelpy\\utils.py:549: UserWarning: some steps in the data are smaller than the requested step size.\n",
      "d:\\dropbox\\code\\nelpy\\nelpy\\core\\_analogsignalarray.py:560: UserWarning: ignoring signal outside of support\n",
      "d:\\dropbox\\code\\nelpy\\nelpy\\core\\_analogsignalarray.py:360: UserWarning: creating support from time and sampling rate, fs!\n",
      "d:\\dropbox\\code\\nelpy\\nelpy\\utils.py:549: UserWarning: some steps in the data are smaller than the requested step size.\n",
      "d:\\dropbox\\code\\nelpy\\nelpy\\core\\_analogsignalarray.py:560: UserWarning: ignoring signal outside of support\n",
      "d:\\dropbox\\code\\nelpy\\nelpy\\core\\_analogsignalarray.py:360: UserWarning: creating support from time and sampling rate, fs!\n",
      "d:\\dropbox\\code\\nelpy\\nelpy\\utils.py:549: UserWarning: some steps in the data are smaller than the requested step size.\n",
      "d:\\dropbox\\code\\nelpy\\nelpy\\core\\_analogsignalarray.py:560: UserWarning: ignoring signal outside of support\n"
     ]
    },
    {
     "name": "stdout",
     "output_type": "stream",
     "text": [
      "Fra 1\n"
     ]
    },
    {
     "name": "stderr",
     "output_type": "stream",
     "text": [
      "d:\\dropbox\\code\\nelpy\\nelpy\\core\\_analogsignalarray.py:360: UserWarning: creating support from time and sampling rate, fs!\n",
      "d:\\dropbox\\code\\nelpy\\nelpy\\utils.py:549: UserWarning: some steps in the data are smaller than the requested step size.\n",
      "d:\\dropbox\\code\\nelpy\\nelpy\\core\\_analogsignalarray.py:560: UserWarning: ignoring signal outside of support\n",
      "d:\\dropbox\\code\\nelpy\\nelpy\\core\\_analogsignalarray.py:360: UserWarning: creating support from time and sampling rate, fs!\n",
      "d:\\dropbox\\code\\nelpy\\nelpy\\utils.py:549: UserWarning: some steps in the data are smaller than the requested step size.\n",
      "d:\\dropbox\\code\\nelpy\\nelpy\\core\\_analogsignalarray.py:560: UserWarning: ignoring signal outside of support\n",
      "d:\\dropbox\\code\\nelpy\\nelpy\\core\\_analogsignalarray.py:360: UserWarning: creating support from time and sampling rate, fs!\n",
      "d:\\dropbox\\code\\nelpy\\nelpy\\utils.py:549: UserWarning: some steps in the data are smaller than the requested step size.\n",
      "d:\\dropbox\\code\\nelpy\\nelpy\\core\\_analogsignalarray.py:560: UserWarning: ignoring signal outside of support\n",
      "d:\\dropbox\\code\\nelpy\\nelpy\\core\\_analogsignalarray.py:360: UserWarning: creating support from time and sampling rate, fs!\n",
      "d:\\dropbox\\code\\nelpy\\nelpy\\utils.py:549: UserWarning: some steps in the data are smaller than the requested step size.\n",
      "d:\\dropbox\\code\\nelpy\\nelpy\\core\\_analogsignalarray.py:560: UserWarning: ignoring signal outside of support\n",
      "d:\\dropbox\\code\\nelpy\\nelpy\\core\\_analogsignalarray.py:360: UserWarning: creating support from time and sampling rate, fs!\n",
      "d:\\dropbox\\code\\nelpy\\nelpy\\utils.py:549: UserWarning: some steps in the data are smaller than the requested step size.\n",
      "d:\\dropbox\\code\\nelpy\\nelpy\\core\\_analogsignalarray.py:560: UserWarning: ignoring signal outside of support\n"
     ]
    },
    {
     "name": "stdout",
     "output_type": "stream",
     "text": [
      "Fra 2\n"
     ]
    },
    {
     "name": "stderr",
     "output_type": "stream",
     "text": [
      "d:\\dropbox\\code\\nelpy\\nelpy\\core\\_analogsignalarray.py:360: UserWarning: creating support from time and sampling rate, fs!\n",
      "d:\\dropbox\\code\\nelpy\\nelpy\\utils.py:549: UserWarning: some steps in the data are smaller than the requested step size.\n",
      "d:\\dropbox\\code\\nelpy\\nelpy\\core\\_analogsignalarray.py:560: UserWarning: ignoring signal outside of support\n",
      "d:\\dropbox\\code\\nelpy\\nelpy\\core\\_analogsignalarray.py:360: UserWarning: creating support from time and sampling rate, fs!\n",
      "d:\\dropbox\\code\\nelpy\\nelpy\\utils.py:549: UserWarning: some steps in the data are smaller than the requested step size.\n",
      "d:\\dropbox\\code\\nelpy\\nelpy\\core\\_analogsignalarray.py:560: UserWarning: ignoring signal outside of support\n",
      "d:\\dropbox\\code\\nelpy\\nelpy\\core\\_analogsignalarray.py:360: UserWarning: creating support from time and sampling rate, fs!\n",
      "d:\\dropbox\\code\\nelpy\\nelpy\\utils.py:549: UserWarning: some steps in the data are smaller than the requested step size.\n",
      "d:\\dropbox\\code\\nelpy\\nelpy\\core\\_analogsignalarray.py:560: UserWarning: ignoring signal outside of support\n",
      "d:\\dropbox\\code\\nelpy\\nelpy\\core\\_analogsignalarray.py:360: UserWarning: creating support from time and sampling rate, fs!\n",
      "d:\\dropbox\\code\\nelpy\\nelpy\\utils.py:549: UserWarning: some steps in the data are smaller than the requested step size.\n",
      "d:\\dropbox\\code\\nelpy\\nelpy\\core\\_analogsignalarray.py:560: UserWarning: ignoring signal outside of support\n",
      "d:\\dropbox\\code\\nelpy\\nelpy\\core\\_analogsignalarray.py:360: UserWarning: creating support from time and sampling rate, fs!\n",
      "d:\\dropbox\\code\\nelpy\\nelpy\\utils.py:549: UserWarning: some steps in the data are smaller than the requested step size.\n",
      "d:\\dropbox\\code\\nelpy\\nelpy\\core\\_analogsignalarray.py:560: UserWarning: ignoring signal outside of support\n"
     ]
    },
    {
     "name": "stdout",
     "output_type": "stream",
     "text": [
      "Fra 3\n"
     ]
    },
    {
     "name": "stderr",
     "output_type": "stream",
     "text": [
      "d:\\dropbox\\code\\nelpy\\nelpy\\core\\_analogsignalarray.py:360: UserWarning: creating support from time and sampling rate, fs!\n",
      "d:\\dropbox\\code\\nelpy\\nelpy\\utils.py:549: UserWarning: some steps in the data are smaller than the requested step size.\n",
      "d:\\dropbox\\code\\nelpy\\nelpy\\core\\_analogsignalarray.py:560: UserWarning: ignoring signal outside of support\n",
      "d:\\dropbox\\code\\nelpy\\nelpy\\core\\_analogsignalarray.py:360: UserWarning: creating support from time and sampling rate, fs!\n",
      "d:\\dropbox\\code\\nelpy\\nelpy\\utils.py:549: UserWarning: some steps in the data are smaller than the requested step size.\n",
      "d:\\dropbox\\code\\nelpy\\nelpy\\core\\_analogsignalarray.py:560: UserWarning: ignoring signal outside of support\n",
      "d:\\dropbox\\code\\nelpy\\nelpy\\core\\_analogsignalarray.py:360: UserWarning: creating support from time and sampling rate, fs!\n",
      "d:\\dropbox\\code\\nelpy\\nelpy\\utils.py:549: UserWarning: some steps in the data are smaller than the requested step size.\n",
      "d:\\dropbox\\code\\nelpy\\nelpy\\core\\_analogsignalarray.py:560: UserWarning: ignoring signal outside of support\n",
      "d:\\dropbox\\code\\nelpy\\nelpy\\core\\_analogsignalarray.py:360: UserWarning: creating support from time and sampling rate, fs!\n",
      "d:\\dropbox\\code\\nelpy\\nelpy\\utils.py:549: UserWarning: some steps in the data are smaller than the requested step size.\n",
      "d:\\dropbox\\code\\nelpy\\nelpy\\core\\_analogsignalarray.py:560: UserWarning: ignoring signal outside of support\n",
      "d:\\dropbox\\code\\nelpy\\nelpy\\core\\_analogsignalarray.py:360: UserWarning: creating support from time and sampling rate, fs!\n",
      "d:\\dropbox\\code\\nelpy\\nelpy\\utils.py:549: UserWarning: some steps in the data are smaller than the requested step size.\n",
      "d:\\dropbox\\code\\nelpy\\nelpy\\core\\_analogsignalarray.py:560: UserWarning: ignoring signal outside of support\n"
     ]
    },
    {
     "name": "stdout",
     "output_type": "stream",
     "text": [
      "Fra 4\n"
     ]
    },
    {
     "name": "stderr",
     "output_type": "stream",
     "text": [
      "d:\\dropbox\\code\\nelpy\\nelpy\\core\\_analogsignalarray.py:360: UserWarning: creating support from time and sampling rate, fs!\n",
      "d:\\dropbox\\code\\nelpy\\nelpy\\utils.py:549: UserWarning: some steps in the data are smaller than the requested step size.\n",
      "d:\\dropbox\\code\\nelpy\\nelpy\\core\\_analogsignalarray.py:560: UserWarning: ignoring signal outside of support\n",
      "d:\\dropbox\\code\\nelpy\\nelpy\\core\\_analogsignalarray.py:360: UserWarning: creating support from time and sampling rate, fs!\n",
      "d:\\dropbox\\code\\nelpy\\nelpy\\utils.py:549: UserWarning: some steps in the data are smaller than the requested step size.\n",
      "d:\\dropbox\\code\\nelpy\\nelpy\\core\\_analogsignalarray.py:560: UserWarning: ignoring signal outside of support\n",
      "d:\\dropbox\\code\\nelpy\\nelpy\\core\\_analogsignalarray.py:360: UserWarning: creating support from time and sampling rate, fs!\n",
      "d:\\dropbox\\code\\nelpy\\nelpy\\utils.py:549: UserWarning: some steps in the data are smaller than the requested step size.\n",
      "d:\\dropbox\\code\\nelpy\\nelpy\\core\\_analogsignalarray.py:560: UserWarning: ignoring signal outside of support\n",
      "d:\\dropbox\\code\\nelpy\\nelpy\\core\\_analogsignalarray.py:360: UserWarning: creating support from time and sampling rate, fs!\n",
      "d:\\dropbox\\code\\nelpy\\nelpy\\utils.py:549: UserWarning: some steps in the data are smaller than the requested step size.\n",
      "d:\\dropbox\\code\\nelpy\\nelpy\\core\\_analogsignalarray.py:560: UserWarning: ignoring signal outside of support\n",
      "d:\\dropbox\\code\\nelpy\\nelpy\\core\\_analogsignalarray.py:360: UserWarning: creating support from time and sampling rate, fs!\n",
      "d:\\dropbox\\code\\nelpy\\nelpy\\utils.py:549: UserWarning: some steps in the data are smaller than the requested step size.\n",
      "d:\\dropbox\\code\\nelpy\\nelpy\\core\\_analogsignalarray.py:560: UserWarning: ignoring signal outside of support\n"
     ]
    },
    {
     "name": "stdout",
     "output_type": "stream",
     "text": [
      "Fra 5\n"
     ]
    },
    {
     "name": "stderr",
     "output_type": "stream",
     "text": [
      "d:\\dropbox\\code\\nelpy\\nelpy\\core\\_analogsignalarray.py:360: UserWarning: creating support from time and sampling rate, fs!\n",
      "d:\\dropbox\\code\\nelpy\\nelpy\\utils.py:549: UserWarning: some steps in the data are smaller than the requested step size.\n",
      "d:\\dropbox\\code\\nelpy\\nelpy\\core\\_analogsignalarray.py:560: UserWarning: ignoring signal outside of support\n",
      "d:\\dropbox\\code\\nelpy\\nelpy\\core\\_analogsignalarray.py:360: UserWarning: creating support from time and sampling rate, fs!\n",
      "d:\\dropbox\\code\\nelpy\\nelpy\\utils.py:549: UserWarning: some steps in the data are smaller than the requested step size.\n",
      "d:\\dropbox\\code\\nelpy\\nelpy\\core\\_analogsignalarray.py:560: UserWarning: ignoring signal outside of support\n",
      "d:\\dropbox\\code\\nelpy\\nelpy\\core\\_analogsignalarray.py:360: UserWarning: creating support from time and sampling rate, fs!\n",
      "d:\\dropbox\\code\\nelpy\\nelpy\\utils.py:549: UserWarning: some steps in the data are smaller than the requested step size.\n",
      "d:\\dropbox\\code\\nelpy\\nelpy\\core\\_analogsignalarray.py:560: UserWarning: ignoring signal outside of support\n",
      "d:\\dropbox\\code\\nelpy\\nelpy\\core\\_analogsignalarray.py:360: UserWarning: creating support from time and sampling rate, fs!\n",
      "d:\\dropbox\\code\\nelpy\\nelpy\\utils.py:549: UserWarning: some steps in the data are smaller than the requested step size.\n",
      "d:\\dropbox\\code\\nelpy\\nelpy\\core\\_analogsignalarray.py:560: UserWarning: ignoring signal outside of support\n",
      "d:\\dropbox\\code\\nelpy\\nelpy\\core\\_analogsignalarray.py:360: UserWarning: creating support from time and sampling rate, fs!\n",
      "d:\\dropbox\\code\\nelpy\\nelpy\\utils.py:549: UserWarning: some steps in the data are smaller than the requested step size.\n",
      "d:\\dropbox\\code\\nelpy\\nelpy\\core\\_analogsignalarray.py:560: UserWarning: ignoring signal outside of support\n"
     ]
    },
    {
     "name": "stdout",
     "output_type": "stream",
     "text": [
      "Fra 6\n"
     ]
    },
    {
     "name": "stderr",
     "output_type": "stream",
     "text": [
      "d:\\dropbox\\code\\nelpy\\nelpy\\core\\_analogsignalarray.py:360: UserWarning: creating support from time and sampling rate, fs!\n",
      "d:\\dropbox\\code\\nelpy\\nelpy\\utils.py:549: UserWarning: some steps in the data are smaller than the requested step size.\n",
      "d:\\dropbox\\code\\nelpy\\nelpy\\core\\_analogsignalarray.py:560: UserWarning: ignoring signal outside of support\n",
      "d:\\dropbox\\code\\nelpy\\nelpy\\core\\_analogsignalarray.py:360: UserWarning: creating support from time and sampling rate, fs!\n",
      "d:\\dropbox\\code\\nelpy\\nelpy\\utils.py:549: UserWarning: some steps in the data are smaller than the requested step size.\n",
      "d:\\dropbox\\code\\nelpy\\nelpy\\core\\_analogsignalarray.py:560: UserWarning: ignoring signal outside of support\n",
      "d:\\dropbox\\code\\nelpy\\nelpy\\core\\_analogsignalarray.py:360: UserWarning: creating support from time and sampling rate, fs!\n",
      "d:\\dropbox\\code\\nelpy\\nelpy\\utils.py:549: UserWarning: some steps in the data are smaller than the requested step size.\n",
      "d:\\dropbox\\code\\nelpy\\nelpy\\core\\_analogsignalarray.py:560: UserWarning: ignoring signal outside of support\n",
      "d:\\dropbox\\code\\nelpy\\nelpy\\core\\_analogsignalarray.py:360: UserWarning: creating support from time and sampling rate, fs!\n",
      "d:\\dropbox\\code\\nelpy\\nelpy\\utils.py:549: UserWarning: some steps in the data are smaller than the requested step size.\n",
      "d:\\dropbox\\code\\nelpy\\nelpy\\core\\_analogsignalarray.py:560: UserWarning: ignoring signal outside of support\n",
      "d:\\dropbox\\code\\nelpy\\nelpy\\core\\_analogsignalarray.py:360: UserWarning: creating support from time and sampling rate, fs!\n",
      "d:\\dropbox\\code\\nelpy\\nelpy\\utils.py:549: UserWarning: some steps in the data are smaller than the requested step size.\n",
      "d:\\dropbox\\code\\nelpy\\nelpy\\core\\_analogsignalarray.py:560: UserWarning: ignoring signal outside of support\n"
     ]
    },
    {
     "name": "stdout",
     "output_type": "stream",
     "text": [
      "Fra 7\n"
     ]
    },
    {
     "name": "stderr",
     "output_type": "stream",
     "text": [
      "d:\\dropbox\\code\\nelpy\\nelpy\\core\\_analogsignalarray.py:360: UserWarning: creating support from time and sampling rate, fs!\n",
      "d:\\dropbox\\code\\nelpy\\nelpy\\utils.py:549: UserWarning: some steps in the data are smaller than the requested step size.\n",
      "d:\\dropbox\\code\\nelpy\\nelpy\\core\\_analogsignalarray.py:560: UserWarning: ignoring signal outside of support\n",
      "d:\\dropbox\\code\\nelpy\\nelpy\\core\\_analogsignalarray.py:360: UserWarning: creating support from time and sampling rate, fs!\n",
      "d:\\dropbox\\code\\nelpy\\nelpy\\utils.py:549: UserWarning: some steps in the data are smaller than the requested step size.\n",
      "d:\\dropbox\\code\\nelpy\\nelpy\\core\\_analogsignalarray.py:560: UserWarning: ignoring signal outside of support\n",
      "d:\\dropbox\\code\\nelpy\\nelpy\\core\\_analogsignalarray.py:360: UserWarning: creating support from time and sampling rate, fs!\n",
      "d:\\dropbox\\code\\nelpy\\nelpy\\utils.py:549: UserWarning: some steps in the data are smaller than the requested step size.\n",
      "d:\\dropbox\\code\\nelpy\\nelpy\\core\\_analogsignalarray.py:560: UserWarning: ignoring signal outside of support\n",
      "d:\\dropbox\\code\\nelpy\\nelpy\\core\\_analogsignalarray.py:360: UserWarning: creating support from time and sampling rate, fs!\n",
      "d:\\dropbox\\code\\nelpy\\nelpy\\utils.py:549: UserWarning: some steps in the data are smaller than the requested step size.\n",
      "d:\\dropbox\\code\\nelpy\\nelpy\\core\\_analogsignalarray.py:560: UserWarning: ignoring signal outside of support\n",
      "d:\\dropbox\\code\\nelpy\\nelpy\\core\\_analogsignalarray.py:360: UserWarning: creating support from time and sampling rate, fs!\n",
      "d:\\dropbox\\code\\nelpy\\nelpy\\utils.py:549: UserWarning: some steps in the data are smaller than the requested step size.\n",
      "d:\\dropbox\\code\\nelpy\\nelpy\\core\\_analogsignalarray.py:560: UserWarning: ignoring signal outside of support\n"
     ]
    },
    {
     "name": "stdout",
     "output_type": "stream",
     "text": [
      "Fra 8\n"
     ]
    },
    {
     "name": "stderr",
     "output_type": "stream",
     "text": [
      "d:\\dropbox\\code\\nelpy\\nelpy\\core\\_analogsignalarray.py:360: UserWarning: creating support from time and sampling rate, fs!\n",
      "d:\\dropbox\\code\\nelpy\\nelpy\\utils.py:549: UserWarning: some steps in the data are smaller than the requested step size.\n",
      "d:\\dropbox\\code\\nelpy\\nelpy\\core\\_analogsignalarray.py:560: UserWarning: ignoring signal outside of support\n",
      "d:\\dropbox\\code\\nelpy\\nelpy\\core\\_analogsignalarray.py:360: UserWarning: creating support from time and sampling rate, fs!\n",
      "d:\\dropbox\\code\\nelpy\\nelpy\\utils.py:549: UserWarning: some steps in the data are smaller than the requested step size.\n",
      "d:\\dropbox\\code\\nelpy\\nelpy\\core\\_analogsignalarray.py:560: UserWarning: ignoring signal outside of support\n",
      "d:\\dropbox\\code\\nelpy\\nelpy\\core\\_analogsignalarray.py:360: UserWarning: creating support from time and sampling rate, fs!\n",
      "d:\\dropbox\\code\\nelpy\\nelpy\\utils.py:549: UserWarning: some steps in the data are smaller than the requested step size.\n",
      "d:\\dropbox\\code\\nelpy\\nelpy\\core\\_analogsignalarray.py:560: UserWarning: ignoring signal outside of support\n",
      "d:\\dropbox\\code\\nelpy\\nelpy\\core\\_analogsignalarray.py:360: UserWarning: creating support from time and sampling rate, fs!\n",
      "d:\\dropbox\\code\\nelpy\\nelpy\\utils.py:549: UserWarning: some steps in the data are smaller than the requested step size.\n",
      "d:\\dropbox\\code\\nelpy\\nelpy\\core\\_analogsignalarray.py:560: UserWarning: ignoring signal outside of support\n",
      "d:\\dropbox\\code\\nelpy\\nelpy\\core\\_analogsignalarray.py:360: UserWarning: creating support from time and sampling rate, fs!\n",
      "d:\\dropbox\\code\\nelpy\\nelpy\\utils.py:549: UserWarning: some steps in the data are smaller than the requested step size.\n",
      "d:\\dropbox\\code\\nelpy\\nelpy\\core\\_analogsignalarray.py:560: UserWarning: ignoring signal outside of support\n"
     ]
    },
    {
     "name": "stdout",
     "output_type": "stream",
     "text": [
      "Fra 9\n"
     ]
    },
    {
     "name": "stderr",
     "output_type": "stream",
     "text": [
      "d:\\dropbox\\code\\nelpy\\nelpy\\core\\_analogsignalarray.py:360: UserWarning: creating support from time and sampling rate, fs!\n",
      "d:\\dropbox\\code\\nelpy\\nelpy\\utils.py:549: UserWarning: some steps in the data are smaller than the requested step size.\n",
      "d:\\dropbox\\code\\nelpy\\nelpy\\core\\_analogsignalarray.py:560: UserWarning: ignoring signal outside of support\n",
      "d:\\dropbox\\code\\nelpy\\nelpy\\core\\_analogsignalarray.py:360: UserWarning: creating support from time and sampling rate, fs!\n",
      "d:\\dropbox\\code\\nelpy\\nelpy\\utils.py:549: UserWarning: some steps in the data are smaller than the requested step size.\n",
      "d:\\dropbox\\code\\nelpy\\nelpy\\core\\_analogsignalarray.py:560: UserWarning: ignoring signal outside of support\n",
      "d:\\dropbox\\code\\nelpy\\nelpy\\core\\_analogsignalarray.py:360: UserWarning: creating support from time and sampling rate, fs!\n",
      "d:\\dropbox\\code\\nelpy\\nelpy\\utils.py:549: UserWarning: some steps in the data are smaller than the requested step size.\n",
      "d:\\dropbox\\code\\nelpy\\nelpy\\core\\_analogsignalarray.py:560: UserWarning: ignoring signal outside of support\n",
      "d:\\dropbox\\code\\nelpy\\nelpy\\core\\_analogsignalarray.py:360: UserWarning: creating support from time and sampling rate, fs!\n",
      "d:\\dropbox\\code\\nelpy\\nelpy\\utils.py:549: UserWarning: some steps in the data are smaller than the requested step size.\n",
      "d:\\dropbox\\code\\nelpy\\nelpy\\core\\_analogsignalarray.py:560: UserWarning: ignoring signal outside of support\n",
      "d:\\dropbox\\code\\nelpy\\nelpy\\core\\_analogsignalarray.py:360: UserWarning: creating support from time and sampling rate, fs!\n",
      "d:\\dropbox\\code\\nelpy\\nelpy\\utils.py:549: UserWarning: some steps in the data are smaller than the requested step size.\n",
      "d:\\dropbox\\code\\nelpy\\nelpy\\core\\_analogsignalarray.py:560: UserWarning: ignoring signal outside of support\n"
     ]
    },
    {
     "name": "stdout",
     "output_type": "stream",
     "text": [
      "Fra 10\n"
     ]
    },
    {
     "name": "stderr",
     "output_type": "stream",
     "text": [
      "d:\\dropbox\\code\\nelpy\\nelpy\\core\\_analogsignalarray.py:360: UserWarning: creating support from time and sampling rate, fs!\n",
      "d:\\dropbox\\code\\nelpy\\nelpy\\utils.py:549: UserWarning: some steps in the data are smaller than the requested step size.\n",
      "d:\\dropbox\\code\\nelpy\\nelpy\\core\\_analogsignalarray.py:560: UserWarning: ignoring signal outside of support\n",
      "d:\\dropbox\\code\\nelpy\\nelpy\\core\\_analogsignalarray.py:360: UserWarning: creating support from time and sampling rate, fs!\n",
      "d:\\dropbox\\code\\nelpy\\nelpy\\utils.py:549: UserWarning: some steps in the data are smaller than the requested step size.\n",
      "d:\\dropbox\\code\\nelpy\\nelpy\\core\\_analogsignalarray.py:560: UserWarning: ignoring signal outside of support\n",
      "d:\\dropbox\\code\\nelpy\\nelpy\\core\\_analogsignalarray.py:360: UserWarning: creating support from time and sampling rate, fs!\n",
      "d:\\dropbox\\code\\nelpy\\nelpy\\utils.py:549: UserWarning: some steps in the data are smaller than the requested step size.\n",
      "d:\\dropbox\\code\\nelpy\\nelpy\\core\\_analogsignalarray.py:560: UserWarning: ignoring signal outside of support\n",
      "d:\\dropbox\\code\\nelpy\\nelpy\\core\\_analogsignalarray.py:360: UserWarning: creating support from time and sampling rate, fs!\n",
      "d:\\dropbox\\code\\nelpy\\nelpy\\utils.py:549: UserWarning: some steps in the data are smaller than the requested step size.\n",
      "d:\\dropbox\\code\\nelpy\\nelpy\\core\\_analogsignalarray.py:560: UserWarning: ignoring signal outside of support\n",
      "d:\\dropbox\\code\\nelpy\\nelpy\\core\\_analogsignalarray.py:360: UserWarning: creating support from time and sampling rate, fs!\n",
      "d:\\dropbox\\code\\nelpy\\nelpy\\utils.py:549: UserWarning: some steps in the data are smaller than the requested step size.\n",
      "d:\\dropbox\\code\\nelpy\\nelpy\\core\\_analogsignalarray.py:560: UserWarning: ignoring signal outside of support\n"
     ]
    },
    {
     "name": "stdout",
     "output_type": "stream",
     "text": [
      "Fra 11\n"
     ]
    },
    {
     "name": "stderr",
     "output_type": "stream",
     "text": [
      "d:\\dropbox\\code\\nelpy\\nelpy\\core\\_analogsignalarray.py:360: UserWarning: creating support from time and sampling rate, fs!\n",
      "d:\\dropbox\\code\\nelpy\\nelpy\\utils.py:549: UserWarning: some steps in the data are smaller than the requested step size.\n",
      "d:\\dropbox\\code\\nelpy\\nelpy\\core\\_analogsignalarray.py:560: UserWarning: ignoring signal outside of support\n",
      "d:\\dropbox\\code\\nelpy\\nelpy\\core\\_analogsignalarray.py:360: UserWarning: creating support from time and sampling rate, fs!\n",
      "d:\\dropbox\\code\\nelpy\\nelpy\\utils.py:549: UserWarning: some steps in the data are smaller than the requested step size.\n",
      "d:\\dropbox\\code\\nelpy\\nelpy\\core\\_analogsignalarray.py:560: UserWarning: ignoring signal outside of support\n",
      "d:\\dropbox\\code\\nelpy\\nelpy\\core\\_analogsignalarray.py:360: UserWarning: creating support from time and sampling rate, fs!\n",
      "d:\\dropbox\\code\\nelpy\\nelpy\\utils.py:549: UserWarning: some steps in the data are smaller than the requested step size.\n",
      "d:\\dropbox\\code\\nelpy\\nelpy\\core\\_analogsignalarray.py:560: UserWarning: ignoring signal outside of support\n",
      "d:\\dropbox\\code\\nelpy\\nelpy\\core\\_analogsignalarray.py:360: UserWarning: creating support from time and sampling rate, fs!\n",
      "d:\\dropbox\\code\\nelpy\\nelpy\\utils.py:549: UserWarning: some steps in the data are smaller than the requested step size.\n",
      "d:\\dropbox\\code\\nelpy\\nelpy\\core\\_analogsignalarray.py:560: UserWarning: ignoring signal outside of support\n",
      "d:\\dropbox\\code\\nelpy\\nelpy\\core\\_analogsignalarray.py:360: UserWarning: creating support from time and sampling rate, fs!\n",
      "d:\\dropbox\\code\\nelpy\\nelpy\\utils.py:549: UserWarning: some steps in the data are smaller than the requested step size.\n",
      "d:\\dropbox\\code\\nelpy\\nelpy\\core\\_analogsignalarray.py:560: UserWarning: ignoring signal outside of support\n"
     ]
    }
   ],
   "source": [
    "for animal in animals:\n",
    "    adir = next(d[1] for d in anim_dirs if d[0] == animal)\n",
    "    tetinfo, _ = frank_lab.load_data(adir, datatype='tetinfo', verbose=verbose)\n",
    "    spikes = frank_lab.load_data(adir, datatype='spikes', verbose=verbose)\n",
    "    \n",
    "    for day in spikes['Day'].unique():\n",
    "        print(animal, day)\n",
    "        task_metadata = data[animal]['Day' + str(day)]['task_metadata']\n",
    "        support = data[animal]['Day' + str(day)]['task_epochs']\n",
    "            \n",
    "        TetrodeList = list(set(tetinfo.query(\"Day==@day & area=='CA1'\").Tetrode.tolist()))\n",
    "        ep_list = task_metadata.Epoch.values.tolist()\n",
    "        \n",
    "        # We know both EEG and position data are missing for Fra day 3 ep 0:\n",
    "        if (animal == 'Fra') and (day==3):\n",
    "            ep_list = np.arange(1, len(ep_list))\n",
    "        \n",
    "        ripples_all_tetrodes = []\n",
    "        for tet in TetrodeList:\n",
    "            eeg_data = []\n",
    "            eeg_timestamps = []\n",
    "            for ep in ep_list:\n",
    "                eeg = frank_lab.load_data(adir, day=day+1, epoch=ep+1, tetrode=tet+1, version='new', verbose=verbose)\n",
    "                eeg_data.append(eeg.data)\n",
    "                eeg_timestamps.append(eeg.starttime + np.array(range(len(eeg.data))) / eeg.samprate)\n",
    "\n",
    "            # now build an eeg object for all epochs, for a single tetrode:\n",
    "            eeg = nel.AnalogSignalArray(ydata=np.hstack(eeg_data), timestamps=np.hstack(eeg_timestamps), fs=1500)\n",
    "            eeg = eeg[support]\n",
    "            ripple_epochs = detect_ripples(eeg)\n",
    "            ripples_all_tetrodes.append(ripple_epochs)\n",
    "        data[animal]['Day' + str(day)]['ripple_epochs'] = np.sum(ripples_all_tetrodes)"
   ]
  },
  {
   "cell_type": "code",
   "execution_count": 15,
   "metadata": {},
   "outputs": [
    {
     "name": "stdout",
     "output_type": "stream",
     "text": [
      "Loading bontetinfo.mat\n",
      "Loading contetinfo.mat\n",
      "Loading fratetinfo.mat\n"
     ]
    }
   ],
   "source": [
    "tetinfo = {}\n",
    "for (anim, adir) in anim_dirs:\n",
    "    tetinfo[anim],_ = frank_lab.load_data(adir, datatype='tetinfo')\n",
    "df = pd.DataFrame([])\n",
    "for anim in animals:\n",
    "    tetinfo[anim].insert(0,'Animal',anim)\n",
    "    df = df.append(tetinfo[anim], ignore_index=True)\n",
    "tetinfo = df"
   ]
  },
  {
   "cell_type": "markdown",
   "metadata": {},
   "source": [
    "### Optionally drop the representative eeg from the data dictionary (saves space for more lightweight work)"
   ]
  },
  {
   "cell_type": "code",
   "execution_count": 16,
   "metadata": {
    "collapsed": true
   },
   "outputs": [],
   "source": [
    "drop_eeg = False\n",
    "\n",
    "if drop_eeg:\n",
    "    for animal, day in sessions:\n",
    "        try:\n",
    "            data[animal][day].pop('eeg', None)\n",
    "        except:\n",
    "            pass"
   ]
  },
  {
   "cell_type": "markdown",
   "metadata": {},
   "source": [
    "### Save nelpy data to file"
   ]
  },
  {
   "cell_type": "code",
   "execution_count": 17,
   "metadata": {
    "collapsed": true
   },
   "outputs": [],
   "source": [
    "FrankLabData = nel.ResultsContainer(data=data,\n",
    "                                    sessions=sessions,\n",
    "                                    cellinfo=cellinfo,\n",
    "                                    taskinfo=taskinfo,\n",
    "                                    tetinfo=tetinfo,\n",
    "                                    description='Data from the lab of Loren Frank CRCNS archive.')\n",
    "FrankLabData.save_pkl(fileroot + 'FrankLabData-BonConFra-no-eeg01.nel')"
   ]
  },
  {
   "cell_type": "markdown",
   "metadata": {},
   "source": [
    "# Create task graph summary, with cell counts, exposures, and ripple counts"
   ]
  },
  {
   "cell_type": "code",
   "execution_count": 1,
   "metadata": {
    "collapsed": true
   },
   "outputs": [],
   "source": [
    "animals = ['Con', 'Bon', 'Fra'] # corresponding to Rats 1, 2, 3 of \"Awake replay of experiences in the hippocampus\", Karlsson (2009)"
   ]
  },
  {
   "cell_type": "code",
   "execution_count": 19,
   "metadata": {},
   "outputs": [
    {
     "data": {
      "image/png": "[encoded data removed]",
      "text/plain": [
       "<matplotlib.figure.Figure at 0x1fce3b4ab00>"
      ]
     },
     "metadata": {},
     "output_type": "display_data"
    }
   ],
   "source": [
    "import matplotlib.pyplot as plt\n",
    "import matplotlib.patches as mpatch\n",
    "%matplotlib inline\n",
    "\n",
    "import seaborn as sns\n",
    "sns.set(rc={'figure.figsize': (12, 4),'lines.linewidth': 2, 'font.size': 18, \n",
    "            'axes.labelsize': 16, 'legend.fontsize': 12, 'ytick.labelsize': 12, 'xtick.labelsize': 12 })\n",
    "sns.set_style('white')\n",
    "\n",
    "w = 0.25 # make patches a little less than 1/3rd to provide spacing\n",
    "h = 0.2\n",
    "dh = 0.2\n",
    "\n",
    "fig, ax = plt.subplots(figsize=(20, 5))\n",
    "\n",
    "rowidx = 0\n",
    "rownames = []\n",
    "for an in animals:\n",
    "    rownames.append(an)\n",
    "    tt = taskinfo.query('Animal==@an & type==\"run\"')\n",
    "    day_first_B = tt.query('description==\"TrackB\" & exposure == 1.0')['Day']\n",
    "\n",
    "    for index, row in tt.iterrows() :\n",
    "        # find first TrackA exposure for each day\n",
    "        day = row['Day'] - day_first_B\n",
    "        ep = row['Epoch'] // 2 # runs are always 1, 3, 5 - integer division gives us 0, 1, 2\n",
    "        x = day + ep / 3.5 # offset within day is by epoch\n",
    "        \n",
    "        if (row['description'] == 'TrackA'):\n",
    "            tag = '{:d}'.format(int(row['exposure']))\n",
    "            r = mpatch.Rectangle((x,rowidx + dh), w, h, color='grey')\n",
    "        else :\n",
    "            tag = '{:d}'.format(int(row['exposure']))\n",
    "            r = mpatch.Rectangle((x,rowidx + dh), w, h, color='darkseagreen')\n",
    "\n",
    "        ax.add_patch(r)\n",
    "        cx = x + w/2.0\n",
    "        cy = rowidx + dh + h/2.0\n",
    "\n",
    "        ax.annotate(tag, (cx, cy), color='w', weight='bold', \n",
    "                    fontsize=10, ha='center', va='center')\n",
    "        \n",
    "        dk = 'Day' + str(np.asscalar(day_first_B.values + day.values))\n",
    "        if (row['description'] == 'TrackA'):\n",
    "            tag = data[an][dk]['ripple_epochs'][data[an][dk]['task_epochs'][ep*2+1]].n_epochs\n",
    "            r = mpatch.Rectangle((x,rowidx + 2*dh), w, h, color='gainsboro')\n",
    "        else :\n",
    "            tag = data[an][dk]['ripple_epochs'][data[an][dk]['task_epochs'][ep*2+1]].n_epochs\n",
    "            r = mpatch.Rectangle((x,rowidx + 2*dh), w, h, color='honeydew')\n",
    "\n",
    "        ax.add_patch(r)\n",
    "        cx = x + w/2.0\n",
    "        cy = rowidx + 2*dh + h/2.0\n",
    "\n",
    "        ax.annotate(tag, (cx, cy), color='k', weight='bold', \n",
    "                    fontsize=10, ha='center', va='center')\n",
    "\n",
    "\n",
    "        if (ep == 0):\n",
    "            dd = row['Day']\n",
    "            ncells = len(cellinfo.query('Animal==@an & Day==@dd & Epoch==0'))\n",
    "            rcells = mpatch.Rectangle((day,rowidx), 2/3.5 + w, dh, color='skyblue')\n",
    "            ax.add_patch(rcells)\n",
    "            cy = dh/2.0\n",
    "\n",
    "            ax.annotate('{:d}'.format(ncells), (x + (2/3.5 + w)/2, rowidx + cy), color='k', weight='bold', \n",
    "                        fontsize=10, ha='center', va='center')\n",
    "\n",
    "            ax.annotate(dk, (x + (2/3.5 + w)/2, rowidx + 3.5*2*cy), color='k', weight='bold', \n",
    "                        fontsize=12, ha='center', va='center')\n",
    "        \n",
    "    rowidx = rowidx + 1\n",
    "\n",
    "# ax.autoscale_view(True,True,True)\n",
    "ax.set_ylim(-0.13,2.85)\n",
    "ax.set_xlim(-3.2,10)\n",
    "ax.set_yticks(np.arange(rowidx)+h*1.5)\n",
    "ax.set_xticks(np.arange(-3,11))\n",
    "ax.set_yticklabels(rownames)\n",
    "ax.xaxis.grid(True)\n",
    "ax.get_xgridlines()[0].set_linestyle('-.')\n",
    "plt.show()\n"
   ]
  }
 ],
 "metadata": {
  "kernelspec": {
   "display_name": "Python 3",
   "language": "python",
   "name": "python3"
  },
  "language_info": {
   "codemirror_mode": {
    "name": "ipython",
    "version": 3
   },
   "file_extension": ".py",
   "mimetype": "text/x-python",
   "name": "python",
   "nbconvert_exporter": "python",
   "pygments_lexer": "ipython3",
   "version": "3.6.4"
  }
 },
 "nbformat": 4,
 "nbformat_minor": 2
}
